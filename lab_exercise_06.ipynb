{
 "cells": [
  {
   "cell_type": "markdown",
   "id": "cc182e8b",
   "metadata": {},
   "source": [
    "# Lab Exercise 06\n",
    "---"
   ]
  },
  {
   "cell_type": "markdown",
   "id": "e2e2c18d",
   "metadata": {},
   "source": [
    "## Research pipeline\n",
    "\n",
    "We have already covered some topics and techniques for loading, cleaning, and manipulating your datasets. While this is extremely important and most times the longest, most tedious part of the research process. However, if you have very clean data you will often be rewarded with fun and exciting analyses and results.\n",
    "\n",
    "![research](img/research_protocol.png)\n",
    "\n",
    "\n",
    "The analysis part is crucial and neded prior to good visualizations for your results, but I am going to cover visualization techniques first since some of these methods anf functions will be very helpful in some data exploration before you run a more formal analysis technique or applying machine learning, etc."
   ]
  },
  {
   "cell_type": "markdown",
   "id": "a205163b",
   "metadata": {},
   "source": [
    "## Visualization techniques\n",
    "\n",
    "Visualization is important to depict certain aspects of your data. These include: \n",
    "- distributions\n",
    "- statistical relationships (continuous variables)\n",
    "- statistical relationships (categorical variables)\n",
    "\n",
    "Some visualization methods are built into modules like scipy, numpy, and pandas. We can use these to quickly generate depictions of our data to gain better understanding.\n",
    "\n",
    "Let's load our dataset and use some more pandas methods."
   ]
  },
  {
   "cell_type": "code",
   "execution_count": null,
   "id": "4db45fa6",
   "metadata": {},
   "outputs": [],
   "source": [
    "import pandas as pd\n",
    "\n",
    "df = pd.read_csv(\"stroke_data.csv\")\n",
    "df.columns"
   ]
  },
  {
   "cell_type": "markdown",
   "id": "4b879d05",
   "metadata": {},
   "source": [
    "First, we will plot data distributions, which involves counting (frequencies) of samples for a given variable.\n",
    "\n",
    "Let's use the `plot` method in pandas to plot a histogram of the age variable using the `kind` argument. This method requires the matplotlib module, so we will load that before we run `plot`."
   ]
  },
  {
   "cell_type": "code",
   "execution_count": null,
   "id": "b97ec7ae",
   "metadata": {
    "scrolled": false
   },
   "outputs": [],
   "source": [
    "import matplotlib.pyplot as plt\n",
    "\n",
    "df['age'].plot(kind='hist')"
   ]
  },
  {
   "cell_type": "markdown",
   "id": "13df0e32",
   "metadata": {},
   "source": [
    "We can do this for categorical variables as well. This involves counting the values for each category first then using that data in the plot. \n",
    "\n",
    "We have to modify the `kind` argument to use `bar` to plot a bar chart depitcing the counts for the `gender` variable categories."
   ]
  },
  {
   "cell_type": "code",
   "execution_count": null,
   "id": "4f746ef4",
   "metadata": {
    "scrolled": true
   },
   "outputs": [],
   "source": [
    "df['gender'].value_counts().plot(kind='bar')"
   ]
  },
  {
   "cell_type": "markdown",
   "id": "7f22cbe1",
   "metadata": {},
   "source": [
    "We can also compare two variables and check for relationships that may exist between them. In pandas we use the `plot` method. Let's plot a scatter plot of age vs avg_glucose_level. "
   ]
  },
  {
   "cell_type": "code",
   "execution_count": null,
   "id": "de19b6a6",
   "metadata": {
    "scrolled": true
   },
   "outputs": [],
   "source": [
    "df.plot(kind='scatter', x='age', y='avg_glucose_level')"
   ]
  },
  {
   "cell_type": "markdown",
   "id": "98aacf4e",
   "metadata": {},
   "source": [
    "These plots are excellent for quickly generating a visual to understand the data better. But for publication/report quality plots we can do better. So let's check out the seaborn module.\n",
    "\n",
    "### Seaborn\n",
    "Seaborn leverages matplotlib to draw \"attractive and informative statistical graphics\".\n",
    "\n",
    "Let's import seaborn and use the `displot` function to generate a distribution plot. Seaborn works harmoniously with pandas dataframes to create the plots. We will select the age variable to run this analysis on (same as the pandas example)."
   ]
  },
  {
   "cell_type": "code",
   "execution_count": null,
   "id": "5d0aeaea",
   "metadata": {
    "scrolled": false
   },
   "outputs": [],
   "source": [
    "import seaborn as sns\n",
    "\n",
    "sns.displot(data=df, x='age')"
   ]
  },
  {
   "cell_type": "markdown",
   "id": "bf9ea22c",
   "metadata": {},
   "source": [
    "With continuous variables, the histogram requires the data to be binned. We can modify the bin size for the `displot` function by using the `binwidth` argument. For the age variable, lets use a bin size of 5."
   ]
  },
  {
   "cell_type": "code",
   "execution_count": null,
   "id": "daef735e",
   "metadata": {
    "scrolled": true
   },
   "outputs": [],
   "source": [
    "sns.displot(data=df, x='age', binwidth=5)"
   ]
  },
  {
   "cell_type": "markdown",
   "id": "58147052",
   "metadata": {},
   "source": [
    "We can also set the number of bins, as opposed to the bin size. We do this using the `bins` argument."
   ]
  },
  {
   "cell_type": "code",
   "execution_count": null,
   "id": "f7b3170a",
   "metadata": {
    "scrolled": true
   },
   "outputs": [],
   "source": [
    "sns.displot(data=df, x='age', bins=10)"
   ]
  },
  {
   "cell_type": "markdown",
   "id": "845ba387",
   "metadata": {},
   "source": [
    "If we want to plot the count for every single value in the range of ages (no bins) we can use the `discrete` argument."
   ]
  },
  {
   "cell_type": "code",
   "execution_count": null,
   "id": "c21181d9",
   "metadata": {
    "scrolled": false
   },
   "outputs": [],
   "source": [
    "sns.displot(data=df, x='age', discrete=True)"
   ]
  },
  {
   "cell_type": "markdown",
   "id": "90281fba",
   "metadata": {},
   "source": [
    "We can add more information to a single plot by using the `hue` argument. We will separate and color the age data by gender."
   ]
  },
  {
   "cell_type": "code",
   "execution_count": null,
   "id": "427163e4",
   "metadata": {
    "scrolled": true
   },
   "outputs": [],
   "source": [
    "sns.displot(data=df, x='age', hue='gender')"
   ]
  },
  {
   "cell_type": "markdown",
   "id": "9a69ea80",
   "metadata": {},
   "source": [
    "While the histogram is a very nice representation of the distribution, there are other methods to approximate and visualize the distribution. Kernel density esitmate plots a \"smoothed\" distribution. We can use the 'kde' in the `kind` argument."
   ]
  },
  {
   "cell_type": "code",
   "execution_count": null,
   "id": "a3e9f122",
   "metadata": {
    "scrolled": true
   },
   "outputs": [],
   "source": [
    "sns.displot(data=df, x='age', kind='kde')"
   ]
  },
  {
   "cell_type": "markdown",
   "id": "f75d27cf",
   "metadata": {},
   "source": [
    "We can stack that with the histogram by running `kind='hist'` and `kde=True`."
   ]
  },
  {
   "cell_type": "code",
   "execution_count": null,
   "id": "81aac9d5",
   "metadata": {},
   "outputs": [],
   "source": [
    "sns.displot(data=df, x='age', kde=True)"
   ]
  },
  {
   "cell_type": "markdown",
   "id": "c7519bd8",
   "metadata": {},
   "source": [
    "Unlike the pandas plot method, seaborn allows us to plot univariate distributions of categorical variables using the `displot` function. \n",
    "\n",
    "We will draw a \"histogram\" using the gender variable."
   ]
  },
  {
   "cell_type": "code",
   "execution_count": null,
   "id": "e3e55e9c",
   "metadata": {},
   "outputs": [],
   "source": [
    "sns.displot(data=df, x='gender', kind='hist')"
   ]
  },
  {
   "cell_type": "markdown",
   "id": "70683b5f",
   "metadata": {},
   "source": [
    "If we want to look at the frequencies for a categorical variable using a proper barplot then we will have to use the `catplot` function. We will set the `kind` argument with `count` to generate a frequency plot.\n",
    "\n",
    "This is exactly what we did with the pandas `plot` function, but we do not need to preprocess the data, seaborn does it for us."
   ]
  },
  {
   "cell_type": "code",
   "execution_count": null,
   "id": "d676801b",
   "metadata": {},
   "outputs": [],
   "source": [
    "sns.catplot(data=df, x='gender', kind='count')"
   ]
  },
  {
   "cell_type": "markdown",
   "id": "d7fb286e",
   "metadata": {},
   "source": [
    "We can use the `catplot` function to look at relationships between categorical and continuous variables. One such plot is the boxplot."
   ]
  },
  {
   "cell_type": "code",
   "execution_count": null,
   "id": "24213cc0",
   "metadata": {
    "scrolled": true
   },
   "outputs": [],
   "source": [
    "sns.catplot(data=df, x='gender', y='age', kind='box')"
   ]
  },
  {
   "cell_type": "markdown",
   "id": "2e8e8f1f",
   "metadata": {},
   "source": [
    "Boxplots provide a wealth of information regarding the distribution of samples with regard to a continuous and categorical variable. \n",
    "\n",
    "The middle line in the box represents the median (50th percentile) of the data, while the bottom and top edges of the box are the first, Q1, and third quartiles, Q3, (25th percentile and 75 percentile), respectively. The \"whiskers\" are the lines coming out of the top and bottom of the box. These represent the minimum and maximum calculated at Q1 - 1.5 * IQR and Q3 + 1.5 * IQR, respectively. IQR is the interquartile range, which is Q3 - Q1. Any outliers appear as points either above the maximum or below the minimum."
   ]
  },
  {
   "cell_type": "markdown",
   "id": "4ebf1b39",
   "metadata": {},
   "source": [
    "If we want to look at relationships between two categorical variables, usually we would look at a crosstab (or contingency table). This shows the counts of samples across multiple variables.\n",
    "\n",
    "This is easily done with pandas. We will show a simple bivariate crosstab using the `crosstab` function."
   ]
  },
  {
   "cell_type": "code",
   "execution_count": null,
   "id": "633471ba",
   "metadata": {},
   "outputs": [],
   "source": [
    "pd.crosstab(df['hypertension'], df['heart_disease'])"
   ]
  },
  {
   "cell_type": "markdown",
   "id": "f82da925",
   "metadata": {},
   "source": [
    "This is very useful, but we can go a step further and plot this information in a heatmap. This type of plot will depict the frequency information based on a color gradient.\n",
    "\n",
    "Below, the lighter collor refers to a higher frequency and darker means lower."
   ]
  },
  {
   "cell_type": "code",
   "execution_count": null,
   "id": "db8d4569",
   "metadata": {
    "scrolled": true
   },
   "outputs": [],
   "source": [
    "sns.heatmap(pd.crosstab(df['hypertension'], df['heart_disease']))"
   ]
  },
  {
   "cell_type": "markdown",
   "id": "6bd0e9d2",
   "metadata": {},
   "source": [
    "We can make this plot even better by adding the counts directly to the plot using the `annot` argument."
   ]
  },
  {
   "cell_type": "code",
   "execution_count": null,
   "id": "e6e887f6",
   "metadata": {
    "scrolled": true
   },
   "outputs": [],
   "source": [
    "sns.heatmap(pd.crosstab(df['hypertension'], df['heart_disease']), annot=True)"
   ]
  },
  {
   "cell_type": "markdown",
   "id": "35de02fc",
   "metadata": {},
   "source": [
    "Or calculate the frequency in pandas `crosstab` and plot the frequencies."
   ]
  },
  {
   "cell_type": "code",
   "execution_count": null,
   "id": "ad022889",
   "metadata": {},
   "outputs": [],
   "source": [
    "sns.heatmap(pd.crosstab(df['hypertension'], df['heart_disease'], normalize=True), annot=True)"
   ]
  },
  {
   "cell_type": "markdown",
   "id": "ff2947c2",
   "metadata": {},
   "source": [
    "We also want to plot continuous variables with respect to other continuous variables. Like with pandas, we can do this with seaborn. To do this we use the `relplot` function.\n",
    "\n",
    "Here we will generate a scatter plot of age vs. avg_glucose_level."
   ]
  },
  {
   "cell_type": "code",
   "execution_count": null,
   "id": "782a3b75",
   "metadata": {
    "scrolled": true
   },
   "outputs": [],
   "source": [
    "sns.relplot(data=df, x='age', y='avg_glucose_level')"
   ]
  },
  {
   "cell_type": "markdown",
   "id": "0e65239e",
   "metadata": {},
   "source": [
    "We can layer a lot of information to these sctterplots by incorporating color cahnge based on another variable. We do this by using the `hue` argument.\n",
    "\n",
    "Below we will plot age vs. avg_glucose_level and have a specific color denoting whether the patient has hyptertension or not."
   ]
  },
  {
   "cell_type": "code",
   "execution_count": null,
   "id": "7bb4aac8",
   "metadata": {
    "scrolled": false
   },
   "outputs": [],
   "source": [
    "sns.relplot(data=df, x='age', y='avg_glucose_level', hue='hypertension')"
   ]
  },
  {
   "cell_type": "markdown",
   "id": "e8073407",
   "metadata": {},
   "source": [
    "Moreover, we can change the `style` of the points based on another variable. We will add heart_disease to the scatterplot."
   ]
  },
  {
   "cell_type": "code",
   "execution_count": null,
   "id": "f0fa5da4",
   "metadata": {
    "scrolled": true
   },
   "outputs": [],
   "source": [
    "sns.relplot(data=df, x='age', y='avg_glucose_level', hue='hypertension', style='heart_disease')"
   ]
  },
  {
   "cell_type": "markdown",
   "id": "525c0979",
   "metadata": {},
   "source": [
    "Lastly, we can change the `size` of the points based on yet another variable. Let's use a continuous variable such as bmi."
   ]
  },
  {
   "cell_type": "code",
   "execution_count": null,
   "id": "6115bc44",
   "metadata": {
    "scrolled": true
   },
   "outputs": [],
   "source": [
    "sns.relplot(data=df, x='age', y='avg_glucose_level', hue='hypertension', style='heart_disease', size='bmi')"
   ]
  },
  {
   "cell_type": "markdown",
   "id": "e61ed4ea",
   "metadata": {},
   "source": [
    "While adding all of this information into a single plot maybe helpful, it may not always be the best plot for portraying the information you need.\n",
    "\n",
    "Based on this scatterplot we can see there is not a linear relationship between avg_glucose_level and age, but hypertension and heart_disease might be related to the two continuous variables. So rather than looking at the scatterplot, can we look at the density of samples at certain values and separate them by the two categorical variables.\n",
    "\n",
    "We can do this by using `displot` again, but using two variables."
   ]
  },
  {
   "cell_type": "code",
   "execution_count": null,
   "id": "d6042af3",
   "metadata": {},
   "outputs": [],
   "source": [
    "sns.displot(data=df, x='age', y='avg_glucose_level')"
   ]
  },
  {
   "cell_type": "markdown",
   "id": "00b124da",
   "metadata": {},
   "source": [
    "Breaking this down by hypertension..."
   ]
  },
  {
   "cell_type": "code",
   "execution_count": null,
   "id": "b5fd878f",
   "metadata": {},
   "outputs": [],
   "source": [
    "sns.displot(data=df, x='age', y='avg_glucose_level',hue='hypertension')"
   ]
  },
  {
   "cell_type": "markdown",
   "id": "128d0283",
   "metadata": {},
   "source": [
    "We can also plot this using the kde method..."
   ]
  },
  {
   "cell_type": "code",
   "execution_count": null,
   "id": "805918e5",
   "metadata": {
    "scrolled": true
   },
   "outputs": [],
   "source": [
    "sns.displot(data=df, x='age', y='avg_glucose_level',hue='hypertension',kind='kde')"
   ]
  },
  {
   "cell_type": "markdown",
   "id": "390b0285",
   "metadata": {},
   "source": [
    "And again with heart_disease..."
   ]
  },
  {
   "cell_type": "code",
   "execution_count": null,
   "id": "1b6349ed",
   "metadata": {},
   "outputs": [],
   "source": [
    "sns.displot(data=df, x='age', y='avg_glucose_level',hue='heart_disease',kind='kde')"
   ]
  },
  {
   "cell_type": "markdown",
   "id": "2c46b899",
   "metadata": {},
   "source": [
    "Lastly, if we want to use these plots in publications or presentations we will need to save or export them somehow. We can do this using a function from matplotlib called `savefig`. This function will save your current plot to a filename of your choosing. The function will also automatically know what file type based on the file extension given.\n",
    "\n",
    "We will save our plot as \"plot.png\"."
   ]
  },
  {
   "cell_type": "code",
   "execution_count": null,
   "id": "de90e9b4",
   "metadata": {},
   "outputs": [],
   "source": [
    "plt.savefig(\"plot.png\")"
   ]
  },
  {
   "cell_type": "code",
   "execution_count": null,
   "id": "465c818d",
   "metadata": {},
   "outputs": [],
   "source": []
  }
 ],
 "metadata": {
  "kernelspec": {
   "display_name": "Python 3 (ipykernel)",
   "language": "python",
   "name": "python3"
  },
  "language_info": {
   "codemirror_mode": {
    "name": "ipython",
    "version": 3
   },
   "file_extension": ".py",
   "mimetype": "text/x-python",
   "name": "python",
   "nbconvert_exporter": "python",
   "pygments_lexer": "ipython3",
   "version": "3.9.7"
  }
 },
 "nbformat": 4,
 "nbformat_minor": 5
}
