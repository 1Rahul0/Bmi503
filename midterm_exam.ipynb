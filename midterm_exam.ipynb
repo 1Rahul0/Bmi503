{
 "cells": [
  {
   "cell_type": "markdown",
   "metadata": {},
   "source": [
    "# Midterm \"Exam\"\n",
    "---\n"
   ]
  },
  {
   "cell_type": "markdown",
   "metadata": {},
   "source": [
    "## Problem 01\n",
    "\n",
    "Print the line \"I am a biomedical informatician.\" using only the provided variables (x, y, and z)."
   ]
  },
  {
   "cell_type": "code",
   "execution_count": 1,
   "metadata": {},
   "outputs": [],
   "source": [
    "# Provided variables\n",
    "# Run this cell first\n",
    "x = \"a\"\n",
    "y = \"I am\"\n",
    "z = \"biomedical informatician.\""
   ]
  },
  {
   "cell_type": "code",
   "execution_count": 2,
   "metadata": {},
   "outputs": [],
   "source": [
    "# Write your code here\n",
    "\n",
    "#"
   ]
  },
  {
   "cell_type": "markdown",
   "metadata": {},
   "source": [
    "## Problem 02\n",
    "\n",
    "If the below variable assignments were executed what would be the data type of each variable. Write the answer in the markdown cell below.\n",
    "\n",
    "1. `true = 1.`\n",
    "2. `t = \"True\"`\n",
    "3. `x = True`\n",
    "4. `none = 0`\n",
    "5. `y = true`\n",
    "6. `z = None`"
   ]
  },
  {
   "cell_type": "markdown",
   "metadata": {},
   "source": [
    "1. true is \n",
    "2. t is \n",
    "3. x is\n",
    "4. none is\n",
    "5. y is\n",
    "6. z is"
   ]
  },
  {
   "cell_type": "markdown",
   "metadata": {},
   "source": [
    "## Problem 03\n",
    "\n",
    "Use the created dictionary, `d`, to compute the following equations:\n",
    "\n",
    "1. `x = (42 - 12) / 3`\n",
    "2. `y = 5 ** 3 / 5`\n",
    "3. `z = 12 * 12 % 12`"
   ]
  },
  {
   "cell_type": "code",
   "execution_count": 15,
   "metadata": {},
   "outputs": [],
   "source": [
    "# Provided variables\n",
    "# Run this cell first\n",
    "d = {'a':42, 'b':12, 'c':3, 'd':5}"
   ]
  },
  {
   "cell_type": "code",
   "execution_count": 16,
   "metadata": {},
   "outputs": [],
   "source": [
    "# Write your code here\n",
    "\n",
    "#"
   ]
  },
  {
   "cell_type": "markdown",
   "metadata": {},
   "source": [
    "## Problem 04\n",
    "\n",
    "Use the given set, `s`, and modify it as needed to give the following list:\n",
    "\n",
    "s = [1,2,3,4,5]"
   ]
  },
  {
   "cell_type": "code",
   "execution_count": 22,
   "metadata": {},
   "outputs": [],
   "source": [
    "# Provided variables\n",
    "# Run this cell first\n",
    "s = (2,3,4)"
   ]
  },
  {
   "cell_type": "code",
   "execution_count": null,
   "metadata": {},
   "outputs": [],
   "source": []
  },
  {
   "cell_type": "markdown",
   "metadata": {},
   "source": [
    "## Problem 05\n",
    "\n",
    "Create a function `left_and_right()` that prints the following pattern:\n",
    "\n",
    "`\n",
    " \\ \\ \\ \\ \\ \n",
    "   / / /   \n",
    " \\ \\ \\ \\ \\ \n",
    "   / / /  \n",
    " \\ \\ \\ \\ \\ \n",
    "`"
   ]
  },
  {
   "cell_type": "code",
   "execution_count": null,
   "metadata": {},
   "outputs": [],
   "source": []
  },
  {
   "cell_type": "markdown",
   "metadata": {},
   "source": [
    "## Problem 06\n",
    "\n",
    "Create a function, `convert_weight()`, that converts kilograms->pounds and pounds->kilograms and returns the desired value. 1 lbs = 0.45359237 kg; 1 kg = 2.20462262185 lbs. The function will take three arguments:\n",
    "\n",
    "- `weight` is a patient's weight (float)\n",
    "- `in_units` is the unit for the inputted weight measurement\n",
    "- `out_units` is the unit for the outputted weight measurement\n",
    "\n",
    "A couple requirements:\n",
    "1. The only accepted values for `in_units` and `out_units` is \"lbs\" and \"kg\". If something else is passed, print an error string \"Incorrect units.\" and return `None`.\n",
    "2. Account for `in_units` and `out_units` being the same value (e.g., kg and kg)\n",
    "3. The function must return the converted value.\n",
    "4. The returned value must be rounded to 2 decimal places."
   ]
  },
  {
   "cell_type": "code",
   "execution_count": null,
   "metadata": {},
   "outputs": [],
   "source": []
  },
  {
   "cell_type": "markdown",
   "metadata": {},
   "source": [
    "## Problem 07\n",
    "\n",
    "Read the file `midterm-patient_weights.csv` and iterate through each patient and print their weights in kilograms. The file has the data stored as such:\n",
    "\n",
    "`Patient number, weight, units\n",
    "0, 137, lbs\n",
    "1, 54.2, kg\n",
    "...`\n",
    "\n",
    "The outputted print statement for each patient should read:\n",
    "`Patient # has a weight of # kg.` with `#` representing the patient number and weight in kg, respectively."
   ]
  },
  {
   "cell_type": "code",
   "execution_count": null,
   "metadata": {},
   "outputs": [],
   "source": []
  }
 ],
 "metadata": {
  "kernelspec": {
   "display_name": "Python 3",
   "language": "python",
   "name": "python3"
  },
  "language_info": {
   "codemirror_mode": {
    "name": "ipython",
    "version": 3
   },
   "file_extension": ".py",
   "mimetype": "text/x-python",
   "name": "python",
   "nbconvert_exporter": "python",
   "pygments_lexer": "ipython3",
   "version": "3.8.5"
  }
 },
 "nbformat": 4,
 "nbformat_minor": 5
}
