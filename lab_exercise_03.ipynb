{
 "cells": [
  {
   "cell_type": "markdown",
   "id": "d8716088",
   "metadata": {},
   "source": [
    "# Lab Exercise 03\n",
    "\n",
    "---\n",
    "\n",
    "## Functions\n",
    "\n",
    "A block of code that can be run when called. \n",
    "\n",
    "Use the `def` keyword to define the function."
   ]
  },
  {
   "cell_type": "code",
   "execution_count": null,
   "id": "3280c63a",
   "metadata": {},
   "outputs": [],
   "source": [
    "# Create a function that print \"1\"\n",
    "def print_one():\n",
    "    print(1)\n",
    "\n",
    "# Call the function\n",
    "print_one()"
   ]
  },
  {
   "cell_type": "markdown",
   "id": "3c759ec9",
   "metadata": {},
   "source": [
    "A function can take arguments that can be used a variables in the function."
   ]
  },
  {
   "cell_type": "code",
   "execution_count": null,
   "id": "97ee2abe",
   "metadata": {},
   "outputs": [],
   "source": [
    "# Create a function that prints a number\n",
    "def print_num(x):\n",
    "    print(x)\n",
    "\n",
    "# Call the function\n",
    "print_num(2)"
   ]
  },
  {
   "cell_type": "markdown",
   "id": "1473b21e",
   "metadata": {},
   "source": [
    "You can define the number of arguments for a function."
   ]
  },
  {
   "cell_type": "code",
   "execution_count": null,
   "id": "2a18baf0",
   "metadata": {},
   "outputs": [],
   "source": [
    "# Create a function that prints two numbers\n",
    "def print_num(x,y):\n",
    "    print(x)\n",
    "    print(y)\n",
    "\n",
    "# Call the function\n",
    "print_num(2,3)"
   ]
  },
  {
   "cell_type": "markdown",
   "id": "4932ed0a",
   "metadata": {},
   "source": [
    "If the incorrect number of arguments is provided when calling the function, python will throw an error."
   ]
  },
  {
   "cell_type": "code",
   "execution_count": null,
   "id": "1567d426",
   "metadata": {
    "scrolled": true
   },
   "outputs": [],
   "source": [
    "# Create a function that prints two numbers\n",
    "def print_num(x,y):\n",
    "    print(x)\n",
    "    print(y)\n",
    "\n",
    "# Call the function\n",
    "print_num(2)"
   ]
  },
  {
   "cell_type": "markdown",
   "id": "031dd410",
   "metadata": {},
   "source": [
    "Can use the keyword of the arguments when calling the function."
   ]
  },
  {
   "cell_type": "code",
   "execution_count": null,
   "id": "3bfb2b13",
   "metadata": {},
   "outputs": [],
   "source": [
    "# Create a function that prints two numbers\n",
    "def print_num(x,y):\n",
    "    print(x)\n",
    "    print(y)\n",
    "\n",
    "# Call the function\n",
    "print_num(x=2, y=3)"
   ]
  },
  {
   "cell_type": "markdown",
   "id": "c42d487b",
   "metadata": {},
   "source": [
    "Can set default values for arguments in a function. This allows us to not define a value for these arguments when calling the function and the default value will be used.\n",
    "\n",
    "Any arguments without a default value must be placed first in the list of arguments when defining the function."
   ]
  },
  {
   "cell_type": "code",
   "execution_count": null,
   "id": "67611a2e",
   "metadata": {},
   "outputs": [],
   "source": [
    "# Create a function that prints two numbers\n",
    "def print_num(x=2,y=3):\n",
    "    print(x)\n",
    "    print(y)\n",
    "\n",
    "# Call the function\n",
    "print_num()"
   ]
  },
  {
   "cell_type": "code",
   "execution_count": null,
   "id": "cd5dea7f",
   "metadata": {},
   "outputs": [],
   "source": [
    "# Create a function that prints two numbers\n",
    "def print_num(x,y=3):\n",
    "    print(x)\n",
    "    print(y)\n",
    "\n",
    "# Call the function\n",
    "print_num(x=2)"
   ]
  },
  {
   "cell_type": "code",
   "execution_count": null,
   "id": "f464ee55",
   "metadata": {},
   "outputs": [],
   "source": [
    "# Create a function that prints two numbers\n",
    "def print_num(x,y=3):\n",
    "    print(x)\n",
    "    print(y)\n",
    "\n",
    "# Call the function\n",
    "print_num(x=2,y=4)"
   ]
  },
  {
   "cell_type": "markdown",
   "id": "622d249d",
   "metadata": {},
   "source": [
    "Functions can return values, alloing the user to set a variable with the result of a function."
   ]
  },
  {
   "cell_type": "code",
   "execution_count": null,
   "id": "473fc965",
   "metadata": {},
   "outputs": [],
   "source": [
    "# Create a function that calculates the inputted value squared\n",
    "def square_num(x):\n",
    "    return x**2\n",
    "\n",
    "# Call the function\n",
    "x2 = square_num(x=2)\n",
    "print(x2)"
   ]
  },
  {
   "cell_type": "markdown",
   "id": "9a73beaa",
   "metadata": {},
   "source": [
    "## Built-in functions and methods\n",
    "\n",
    "We have already covered some functions in python, including `range()`, `len()`, and data type casts. There are more functions that are quite useful.\n",
    "\n",
    "`round()` will round the the value to the nearest whole integer. The function takes a value in as an argument and returns the rounded value."
   ]
  },
  {
   "cell_type": "code",
   "execution_count": null,
   "id": "69ee27b6",
   "metadata": {
    "scrolled": true
   },
   "outputs": [],
   "source": [
    "print(round(2.1))"
   ]
  },
  {
   "cell_type": "code",
   "execution_count": null,
   "id": "568496e1",
   "metadata": {},
   "outputs": [],
   "source": [
    "print(round(2.6))"
   ]
  },
  {
   "cell_type": "markdown",
   "id": "af2bff6a",
   "metadata": {},
   "source": [
    "You can also round to a specific number of decimal  by providing a second argument to set the returned number of digits after the decimal."
   ]
  },
  {
   "cell_type": "code",
   "execution_count": null,
   "id": "1d5a449a",
   "metadata": {
    "scrolled": true
   },
   "outputs": [],
   "source": [
    "print(round(3.14159, 2))"
   ]
  },
  {
   "cell_type": "markdown",
   "id": "56b06ce5",
   "metadata": {},
   "source": [
    "`sum()` will return the total value of from an array of values."
   ]
  },
  {
   "cell_type": "code",
   "execution_count": null,
   "id": "e5c4702a",
   "metadata": {
    "scrolled": true
   },
   "outputs": [],
   "source": [
    "l = [1,2,3,4]\n",
    "print(sum(l))"
   ]
  },
  {
   "cell_type": "markdown",
   "id": "6718158d",
   "metadata": {},
   "source": [
    "`max()` and `min()` allow the user to easily identify the maximum and minimum values in an array, respectively."
   ]
  },
  {
   "cell_type": "code",
   "execution_count": null,
   "id": "cc72d267",
   "metadata": {
    "scrolled": true
   },
   "outputs": [],
   "source": [
    "l = [1,2,3,4]\n",
    "print(min(l))"
   ]
  },
  {
   "cell_type": "code",
   "execution_count": null,
   "id": "d06d4643",
   "metadata": {
    "scrolled": true
   },
   "outputs": [],
   "source": [
    "l = [1,2,3,4]\n",
    "print(max(l))"
   ]
  },
  {
   "cell_type": "markdown",
   "id": "34228324",
   "metadata": {},
   "source": [
    "### String methods\n",
    "\n",
    "We have discussed some string methods, but a few that are very useful include:\n",
    "- `join()`\n",
    "- `upper()`\n",
    "- `lower()`\n",
    "- `split()`\n",
    "- `strip()`\n",
    "- `replace()`"
   ]
  },
  {
   "cell_type": "markdown",
   "id": "05a65d6a",
   "metadata": {},
   "source": [
    "`join()` lets us concatenate an array of strings into a single string. An array of strings in the argument this method takes in. The string you apply this function to is the string that will join the strings in the list."
   ]
  },
  {
   "cell_type": "code",
   "execution_count": null,
   "id": "55530bea",
   "metadata": {},
   "outputs": [],
   "source": [
    "l = ['H','e','l','l','o']\n",
    "print(\"\".join(l))"
   ]
  },
  {
   "cell_type": "code",
   "execution_count": null,
   "id": "058db77c",
   "metadata": {},
   "outputs": [],
   "source": [
    "l = ['H','e','l','l','o']\n",
    "print(\"\\t\".join(l))"
   ]
  },
  {
   "cell_type": "markdown",
   "id": "64b007a9",
   "metadata": {},
   "source": [
    "`upper()` and `lower()` will make the string all uppercase or lowercase, respectively."
   ]
  },
  {
   "cell_type": "code",
   "execution_count": null,
   "id": "5b3552d4",
   "metadata": {
    "scrolled": true
   },
   "outputs": [],
   "source": [
    "s = \"Hello World!\"\n",
    "print(s.upper())"
   ]
  },
  {
   "cell_type": "code",
   "execution_count": null,
   "id": "f3329883",
   "metadata": {
    "scrolled": true
   },
   "outputs": [],
   "source": [
    "s = \"Hello World!\"\n",
    "print(s.lower())"
   ]
  },
  {
   "cell_type": "markdown",
   "id": "f9d42207",
   "metadata": {},
   "source": [
    "`split()` allows us to separate a string into an array of strings. This method can take an argument that defines what character the function will split on, default is whitespace."
   ]
  },
  {
   "cell_type": "code",
   "execution_count": null,
   "id": "ed806543",
   "metadata": {
    "scrolled": true
   },
   "outputs": [],
   "source": [
    "s = \"Hello World!\"\n",
    "print(s.split())"
   ]
  },
  {
   "cell_type": "code",
   "execution_count": null,
   "id": "34f3e60c",
   "metadata": {
    "scrolled": true
   },
   "outputs": [],
   "source": [
    "s = \"blue,bird,4\"\n",
    "print(s.split(','))"
   ]
  },
  {
   "cell_type": "markdown",
   "id": "7c96e18b",
   "metadata": {},
   "source": [
    "`strip()` will remove the trailing and leading whtiespace in a string."
   ]
  },
  {
   "cell_type": "code",
   "execution_count": null,
   "id": "3c98d94a",
   "metadata": {
    "scrolled": true
   },
   "outputs": [],
   "source": [
    "s = \"    Hello World!    \"\n",
    "print(s.strip())"
   ]
  },
  {
   "cell_type": "markdown",
   "id": "8df13678",
   "metadata": {},
   "source": [
    "Can also define which characters will be removed from the beginning and end of the string."
   ]
  },
  {
   "cell_type": "code",
   "execution_count": null,
   "id": "ce88e5da",
   "metadata": {},
   "outputs": [],
   "source": [
    "s = \"...Hello World!\\n\"\n",
    "print(s.strip(\".\\n\"))"
   ]
  },
  {
   "cell_type": "markdown",
   "id": "43cc3983",
   "metadata": {},
   "source": [
    "`replace()` will replace a defined string with another string throughout the given string. THis method is applied to a string and takes two arguments: the string to find and the string to replace."
   ]
  },
  {
   "cell_type": "code",
   "execution_count": null,
   "id": "75b63609",
   "metadata": {},
   "outputs": [],
   "source": [
    "s = \"Hello World!\"\n",
    "print(s.replace(\"!\",\".\"))"
   ]
  },
  {
   "cell_type": "code",
   "execution_count": null,
   "id": "33145622",
   "metadata": {},
   "outputs": [],
   "source": [
    "s = \"Hello World!\"\n",
    "print(s.replace(\"o\",\" \"))"
   ]
  },
  {
   "cell_type": "markdown",
   "id": "6daff7dc",
   "metadata": {},
   "source": [
    "## File handling\n",
    "\n",
    "In python, you can open, read, and write files.\n",
    "\n",
    "`open()` is the function we will use to access a file. This function takes two arguemnts:\n",
    "- filename (name of the file to be opened)\n",
    "- mode (what you can do with the opened file)\n",
    "\n",
    "The modes include:\n",
    "- \"r\" == read (default)\n",
    "- \"a\" == append\n",
    "- \"w\" == write\n",
    "- \"x\" == create"
   ]
  },
  {
   "cell_type": "code",
   "execution_count": null,
   "id": "edf5d2ab",
   "metadata": {
    "scrolled": true
   },
   "outputs": [],
   "source": [
    "f = open(\"test.txt\",'r')\n",
    "print(f)"
   ]
  },
  {
   "cell_type": "markdown",
   "id": "2e968e2c",
   "metadata": {},
   "source": [
    "What happens if the file (filename) doesn't exist?\n",
    "\n",
    "'r' will throw an error\n",
    "'a' will throw an error\n",
    "'w' will create a new file (and overwrite an existing file)\n",
    "'x' will create a new file (throws an error if the file does exist!)"
   ]
  },
  {
   "cell_type": "code",
   "execution_count": null,
   "id": "0dcb0d5b",
   "metadata": {
    "scrolled": true
   },
   "outputs": [],
   "source": [
    "f = open(\"no_file.txt\",'r')"
   ]
  },
  {
   "cell_type": "markdown",
   "id": "017ab018",
   "metadata": {},
   "source": [
    "After reading, creating, or modifying a file, you must close the file. To do this you will use the `close()` function on the file object."
   ]
  },
  {
   "cell_type": "code",
   "execution_count": null,
   "id": "959be435",
   "metadata": {},
   "outputs": [],
   "source": [
    "f.close()"
   ]
  },
  {
   "cell_type": "markdown",
   "id": "618840a2",
   "metadata": {},
   "source": [
    "The `with` statement is much easier than ensuring each file that is opened is subsequently closed after using it."
   ]
  },
  {
   "cell_type": "code",
   "execution_count": null,
   "id": "2f3c85ec",
   "metadata": {},
   "outputs": [],
   "source": [
    "with open(\"test.txt\",'r') as f:\n",
    "    print(f)"
   ]
  },
  {
   "cell_type": "markdown",
   "id": "0d19038c",
   "metadata": {},
   "source": [
    "Once we have the file open, we can then use functions to manipulate the file data.\n",
    "\n",
    "`read()` is the first function. This allows us to read the whole file."
   ]
  },
  {
   "cell_type": "code",
   "execution_count": null,
   "id": "f1910b70",
   "metadata": {},
   "outputs": [],
   "source": [
    "with open(\"test.txt\",'r') as f:\n",
    "    print(f.read())"
   ]
  },
  {
   "cell_type": "markdown",
   "id": "51fd1b20",
   "metadata": {},
   "source": [
    "You will notice the test file (\"test.csv\") has 4 separate lines of text. We can read this file line by line using the `readline()` function."
   ]
  },
  {
   "cell_type": "code",
   "execution_count": null,
   "id": "851749b5",
   "metadata": {
    "scrolled": true
   },
   "outputs": [],
   "source": [
    "with open(\"test.txt\",'r') as f:\n",
    "    # print the first line\n",
    "    print(f.readline())"
   ]
  },
  {
   "cell_type": "markdown",
   "id": "0aac0b78",
   "metadata": {},
   "source": [
    "Return more than one line by calling the `readline()` mutliple times while the file is open."
   ]
  },
  {
   "cell_type": "code",
   "execution_count": null,
   "id": "0a56a397",
   "metadata": {},
   "outputs": [],
   "source": [
    "with open(\"test.txt\",'r') as f:\n",
    "    # print the first line\n",
    "    print(f.readline())\n",
    "    # print the second line\n",
    "    print(f.readline())"
   ]
  },
  {
   "cell_type": "markdown",
   "id": "a88701ba",
   "metadata": {},
   "source": [
    "We can read these lines of text and load them into a list using the `readlines()` function."
   ]
  },
  {
   "cell_type": "code",
   "execution_count": null,
   "id": "3ebaea20",
   "metadata": {},
   "outputs": [],
   "source": [
    "with open(\"test.txt\",'r') as f:\n",
    "    l = f.readlines()\n",
    "print(l)"
   ]
  },
  {
   "cell_type": "markdown",
   "id": "5a572898",
   "metadata": {},
   "source": [
    "We can also iterate through all of the lines in a text file by using a for loop with an open file object."
   ]
  },
  {
   "cell_type": "code",
   "execution_count": null,
   "id": "2c1191a0",
   "metadata": {},
   "outputs": [],
   "source": [
    "with open(\"test.txt\",'r') as f:\n",
    "    for line in f:\n",
    "        print(line)"
   ]
  },
  {
   "cell_type": "markdown",
   "id": "65bd19e0",
   "metadata": {},
   "source": [
    "Using the `write()` method we can save data to an open file."
   ]
  },
  {
   "cell_type": "code",
   "execution_count": null,
   "id": "cb877b27",
   "metadata": {
    "scrolled": true
   },
   "outputs": [],
   "source": [
    "with open(\"mytest.txt\",'w') as f:\n",
    "    for i in range(4):\n",
    "        f.write(str(i))\n",
    "        \n",
    "with open(\"mytest.txt\",'r') as f:\n",
    "    print(f.read())"
   ]
  },
  {
   "cell_type": "markdown",
   "id": "2af5a3c8",
   "metadata": {},
   "source": [
    "Can append to an existing file as well."
   ]
  },
  {
   "cell_type": "code",
   "execution_count": null,
   "id": "b669b191",
   "metadata": {},
   "outputs": [],
   "source": [
    "with open(\"mytest.txt\",'a') as f:\n",
    "    f.write(\"4\")\n",
    "        \n",
    "with open(\"mytest.txt\",'r') as f:\n",
    "    print(f.read())"
   ]
  },
  {
   "cell_type": "markdown",
   "id": "5fd9cea0",
   "metadata": {},
   "source": [
    "# Graded Portion\n",
    "\n",
    "---\n",
    "\n",
    "## Problem 01 (5 pts)\n",
    "\n",
    "Create a body mass index (BMI) calculator function called `bmi_calc()`. This function should take in `weight` (in kilograms) and `height` (in meters) as arguments and returns the calculated BMI.\n",
    "\n",
    "The equation for BMI is:\n",
    "\n",
    "BMI = weight / height<sup>2</sup>\n",
    "\n",
    "The function MUST:\n",
    "- be named `bmi_calc`\n",
    "- return the calculated bmi (not just print)\n",
    "- arguments must named `weight` and `height`\n",
    "- `weight` must be in kg, `height` must be in m.\n",
    "- return a value rounded to one decimal place (e.g., 20.1)\n",
    "\n",
    "The function will be tested on 5 \"patients\" (1 points each). "
   ]
  },
  {
   "cell_type": "code",
   "execution_count": null,
   "id": "4edc5a18",
   "metadata": {},
   "outputs": [],
   "source": [
    "# Write your code here to answer the question\n",
    "\n",
    "#"
   ]
  },
  {
   "cell_type": "code",
   "execution_count": null,
   "id": "a3e3bf4c",
   "metadata": {},
   "outputs": [],
   "source": [
    "# Test the function\n",
    "print(bmi_calc(weight=50.0,height=1.52)==21.6)\n",
    "print(bmi_calc(weight=97.2,height=1.54)==41.0)\n",
    "print(bmi_calc(weight=51.1,height=1.93)==13.7)\n",
    "print(bmi_calc(weight=52.3,height=1.60)==20.4)\n",
    "print(bmi_calc(weight=84.1,height=1.803)==25.9)"
   ]
  },
  {
   "cell_type": "markdown",
   "id": "e338ea3e",
   "metadata": {},
   "source": [
    "## Problem 02 (5 pts)\n",
    "\n",
    "Create a function that will classify the \"healthiness\" of the patient called `bmi_class()`. The function will take in one argument, `bmi`, and will return the one of 4 classes based on the inputted BMI.\n",
    "\n",
    "The four classes are:\n",
    "- underweight <= 18.4\n",
    "- healthy >=18.5 and <=24.9\n",
    "- overweight >=25.0 and <=39.9\n",
    "- obese >= 40.0\n",
    "\n",
    "The function will be tested on 5 \"patients\" (1 point each). "
   ]
  },
  {
   "cell_type": "code",
   "execution_count": null,
   "id": "53d7e37b",
   "metadata": {},
   "outputs": [],
   "source": [
    "# Write your code here to answer the question\n",
    "\n",
    "#"
   ]
  },
  {
   "cell_type": "code",
   "execution_count": null,
   "id": "974340fa",
   "metadata": {},
   "outputs": [],
   "source": [
    "# Test the function\n",
    "print(bmi_class(bmi=21.6)==\"healthy\")\n",
    "print(bmi_class(bmi=41.0)==\"obese\")\n",
    "print(bmi_class(bmi=13.7)==\"underweight\")\n",
    "print(bmi_class(bmi=20.4)==\"healthy\")\n",
    "print(bmi_class(bmi=25.9)==\"overweight\")"
   ]
  },
  {
   "cell_type": "markdown",
   "id": "13859a78",
   "metadata": {},
   "source": [
    "##  Problem 03 (10 pts)\n",
    "\n",
    "Create a function, `bmi_print()`, that reads the weight and height of 5 patients from a csv file, `LE03-P03-patients.csv`, calculates the BMI for each patient, prints the BMI value, and the classification of the patient (underweight, healthy, overweight, or obese). Use the previous two functions, `bmi_calc()` and `bmi_class()`, in your new function.\n",
    "\n",
    "Your outputted print statement for each patient should include the patient number (starting with 1), BMI value, and BMI classification, e.g., \"Patient 1 is healthy with a BMI of 20.1\".\n",
    "\n",
    "The file `LE03-P03-patients.csv` has the weight and height (in that order) for each patient as a separate line. The weight (kg) and height (m) are separated by a comma (,), e.g., \"55.1,20.0\".\n",
    "\n",
    "The function will be tested on 5 \"patients\" (2 points each). "
   ]
  },
  {
   "cell_type": "code",
   "execution_count": null,
   "id": "b37a149d",
   "metadata": {},
   "outputs": [],
   "source": [
    "# Write your code here to answer the question\n",
    "\n",
    "#"
   ]
  }
 ],
 "metadata": {
  "kernelspec": {
   "display_name": "Python 3 (ipykernel)",
   "language": "python",
   "name": "python3"
  },
  "language_info": {
   "codemirror_mode": {
    "name": "ipython",
    "version": 3
   },
   "file_extension": ".py",
   "mimetype": "text/x-python",
   "name": "python",
   "nbconvert_exporter": "python",
   "pygments_lexer": "ipython3",
   "version": "3.9.7"
  }
 },
 "nbformat": 4,
 "nbformat_minor": 5
}
