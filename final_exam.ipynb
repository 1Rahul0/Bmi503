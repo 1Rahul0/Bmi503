{
 "cells": [
  {
   "cell_type": "markdown",
   "id": "4a284b2c",
   "metadata": {},
   "source": [
    "# Final Exam\n",
    "---\n",
    "\n",
    "# *Short Answer*\n",
    "\n",
    "For the following problems you will be asked to respond to each question with a word or brief sentence. Please be concise with your reponses, I do not want paragraphs for each question.\n",
    "\n",
    "---"
   ]
  },
  {
   "cell_type": "markdown",
   "id": "a9ee0940",
   "metadata": {},
   "source": [
    "## Problem 01 (8 pts)\n",
    "\n",
    "What are the **4** components of the FAIR principles? Briefly describe each of the four components."
   ]
  },
  {
   "cell_type": "code",
   "execution_count": null,
   "id": "1406193b",
   "metadata": {},
   "outputs": [],
   "source": [
    "# Write your answers here\n",
    "\n",
    "## 1\n",
    "\n",
    "\n",
    "## 2\n",
    "\n",
    "\n",
    "## 3\n",
    "\n",
    "\n",
    "## 4\n",
    "\n"
   ]
  },
  {
   "cell_type": "markdown",
   "id": "16e37dbd",
   "metadata": {},
   "source": [
    "## Problem 02 (10 pts)\n",
    "\n",
    "Briefly describe why software methods and/or databases are important and how they can be used for each of the **5** listed subdisciplines within Biomedical Informatics:\n",
    "1. Sociotechnical engineering (human factors)\n",
    "2. Biomedical Ontology\n",
    "3. Clinical Informatics\n",
    "4. Public Health Informatics\n",
    "5. Bioinformatics\n",
    "\n",
    "You can also provide examples of research being done to support your answers."
   ]
  },
  {
   "cell_type": "code",
   "execution_count": null,
   "id": "d3106cf2",
   "metadata": {},
   "outputs": [],
   "source": [
    "# Write your answers here\n",
    "\n",
    "## Sociotechnical engineering (human factors)\n",
    "\n",
    "\n",
    "## Biomedical Ontology\n",
    "\n",
    "\n",
    "## Clinical Informatics\n",
    "\n",
    "\n",
    "## Public Health Informatics\n",
    "\n",
    "\n",
    "## Bioinformatics\n",
    "\n"
   ]
  },
  {
   "cell_type": "markdown",
   "id": "cb684395",
   "metadata": {},
   "source": [
    "## Problem 03 (6 pts)\n",
    "\n",
    "What are the **3** main control structures within programs? Define each of them."
   ]
  },
  {
   "cell_type": "code",
   "execution_count": null,
   "id": "1dca0256",
   "metadata": {},
   "outputs": [],
   "source": [
    "# Write your answer here\n",
    "\n",
    "## 1\n",
    "\n",
    "\n",
    "## 2\n",
    "\n",
    "\n",
    "## 3\n",
    "\n"
   ]
  },
  {
   "cell_type": "markdown",
   "id": "398d5000",
   "metadata": {},
   "source": [
    "## Problem 04 (10 pts)\n",
    "\n",
    "What are the **5** basic data types within Python? Give an example of each."
   ]
  },
  {
   "cell_type": "code",
   "execution_count": null,
   "id": "46c336ee",
   "metadata": {},
   "outputs": [],
   "source": [
    "# Write your answers here\n",
    "\n",
    "## 1\n",
    "\n",
    "\n",
    "## 2\n",
    "\n",
    "\n",
    "## 3\n",
    "\n",
    "\n",
    "## 4\n",
    "\n",
    "\n",
    "## 5\n",
    "\n"
   ]
  },
  {
   "cell_type": "markdown",
   "id": "41f8c388",
   "metadata": {},
   "source": [
    "## Problem 05 (5 pts)\n",
    "\n",
    "Name each of the arithemetic functions listed below:\n",
    "1. //\n",
    "2. -\n",
    "3. **\n",
    "4. /\n",
    "5. %"
   ]
  },
  {
   "cell_type": "code",
   "execution_count": null,
   "id": "72ef9a89",
   "metadata": {},
   "outputs": [],
   "source": [
    "# Write your answer here\n",
    "\n",
    "## 1\n",
    "\n",
    "\n",
    "## 2\n",
    "\n",
    "\n",
    "## 3\n",
    "\n",
    "\n",
    "## 4\n",
    "\n",
    "\n",
    "## 5\n",
    "\n"
   ]
  },
  {
   "cell_type": "markdown",
   "id": "d5959c6c",
   "metadata": {},
   "source": [
    "## Problem 06 (5 pts)\n",
    "\n",
    "Write whether each of the following comparison operations will result in a True or False given the variable assignments.\n",
    "\n",
    "a=1\n",
    "b='2'\n",
    "c=3\n",
    "x=6\n",
    "y=9\n",
    "z=2\n",
    "\n",
    "1. a*b == z\n",
    "2. c**c == y\n",
    "3. c*z != x\n",
    "4. c*z+a <= y\n",
    "5. x/z == y/c"
   ]
  },
  {
   "cell_type": "code",
   "execution_count": null,
   "id": "5410b62d",
   "metadata": {},
   "outputs": [],
   "source": [
    "# Write your answer here\n",
    "\n",
    "## 1\n",
    "\n",
    "\n",
    "## 2\n",
    "\n",
    "\n",
    "## 3\n",
    "\n",
    "\n",
    "## 4\n",
    "\n",
    "\n",
    "## 5\n",
    "\n"
   ]
  },
  {
   "cell_type": "markdown",
   "id": "b7028cf2",
   "metadata": {},
   "source": [
    "## Problem 07 (8 pts)\n",
    "\n",
    "For each data structure, state if it:\n",
    "- is ordered or unordered\n",
    "- is changeable or unchangable\n",
    "\n",
    "The data structures are:\n",
    "1. Tuple\n",
    "2. Set\n",
    "3. Dictionary\n",
    "4. List\n"
   ]
  },
  {
   "cell_type": "code",
   "execution_count": null,
   "id": "b76d89ad",
   "metadata": {},
   "outputs": [],
   "source": [
    "# Write your answer here\n",
    "\n",
    "## 1 Tuple\n",
    "\n",
    "\n",
    "## 2 Set\n",
    "\n",
    "\n",
    "## 3 Dictionary\n",
    "\n",
    "\n",
    "## 4 List\n",
    "\n"
   ]
  },
  {
   "cell_type": "markdown",
   "id": "9fb236b9",
   "metadata": {},
   "source": [
    "---\n",
    "\n",
    "# *Fix the code*\n",
    "\n",
    "For each of these problems a snippet of code will be provided. There will be at least one error present in the code. Fix the code to output the desired answer to solve each problem.\n",
    "\n",
    "---"
   ]
  },
  {
   "cell_type": "markdown",
   "id": "2a2c42af",
   "metadata": {},
   "source": [
    "## Problem 08 (6 pts)\n",
    "\n",
    "The desired output is `[0, 1, 2, 3, 4]`."
   ]
  },
  {
   "cell_type": "code",
   "execution_count": null,
   "id": "8406fa51",
   "metadata": {},
   "outputs": [],
   "source": [
    "counter = 0\n",
    "l = []\n",
    "for i in range(5):\n",
    "    l.append(counter)\n",
    "print(l)"
   ]
  },
  {
   "cell_type": "markdown",
   "id": "03f042e7",
   "metadata": {},
   "source": [
    "## Problem 09 (6 pts)\n",
    "\n",
    "The desired output is: \n",
    "\n",
    "`True\n",
    "True\n",
    "True\n",
    "True\n",
    "True`\n"
   ]
  },
  {
   "cell_type": "code",
   "execution_count": null,
   "id": "72a36c5f",
   "metadata": {},
   "outputs": [],
   "source": [
    "def bmi(w,h):\n",
    "    return round(w/h**2, 4)\n",
    "\n",
    "print(bmi(w=50.0,t=1.52)==21.6)\n",
    "print(bmi(weight=97.2,height=1.54)==41.0)\n",
    "print(bmi(w=51.1,h=1.93)==13.7)\n",
    "print(bmi(w=52.3,h=1.60)==20.4)\n",
    "print(bmi(w=84.1,h=1.803)==25.9)"
   ]
  },
  {
   "cell_type": "markdown",
   "id": "ffd1eff1",
   "metadata": {},
   "source": [
    "## Problem 10 (6 pts)\n",
    "\n",
    "The desired output is: \n",
    "\n",
    "`\n",
    "Minimum value for Pregnancies is 0.0\n",
    "Minimum value for Glucose is 0.0\n",
    "Minimum value for BloodPressure is 0.0\n",
    "Minimum value for SkinThickness is 0.0\n",
    "Minimum value for Insulin is 0.0\n",
    "Minimum value for BMI is 0.0\n",
    "Minimum value for DiabetesPedigreeFunction is 0.078\n",
    "Minimum value for Age is 21.0\n",
    "Minimum value for Outcome is 0.0\n",
    "`"
   ]
  },
  {
   "cell_type": "code",
   "execution_count": null,
   "id": "a960504c",
   "metadata": {},
   "outputs": [],
   "source": [
    "import pandas as pd\n",
    "\n",
    "df = pd.read_csv(\"diabetes.csv\",sep='\\t')\n",
    "\n",
    "for col in df.columns:\n",
    "    print(\"Minimum value for {col} is {df[c].min()}\")"
   ]
  },
  {
   "cell_type": "markdown",
   "id": "a07e40b3",
   "metadata": {},
   "source": [
    "---\n",
    "\n",
    "# *Write your own code*\n",
    "\n",
    "The following problems will require you to write your own code to print and/or return specific results.\n",
    "\n",
    "---"
   ]
  },
  {
   "cell_type": "markdown",
   "id": "192faab4",
   "metadata": {},
   "source": [
    "## Problem 11 (5 pts)\n",
    "\n",
    "Given the True positives, True negative, False positives, and False negatives, write a function that takes each of these in as inputs (tp, tn, fp, and fn, respectively), calculates Accuracy, Precision, Recall, and F1 score, then returns a dictionary that contains keys and the corresponding values for each of these *4* performance metrics."
   ]
  },
  {
   "cell_type": "code",
   "execution_count": null,
   "id": "f9a98d10",
   "metadata": {},
   "outputs": [],
   "source": [
    "# Write your code here\n",
    "def performance_metrics():\n",
    "    "
   ]
  },
  {
   "cell_type": "code",
   "execution_count": null,
   "id": "583ef26b",
   "metadata": {},
   "outputs": [],
   "source": [
    "# Test your code here\n",
    "d_mets = performance_metrics(tp=5,tn=10,fp=2,fn=3)\n",
    "print(d_mets['accuracy'])\n",
    "print(d_mets['precision'])\n",
    "print(d_mets['recall'])\n",
    "print(d_mets['f1_score'])"
   ]
  },
  {
   "cell_type": "markdown",
   "id": "3eed28ad",
   "metadata": {},
   "source": [
    "## Problem 12 (5 pts)\n",
    "\n",
    "Write a function that will calculate the mean, median, min, max and standard deviation for a pandas Series. The function should return these values in a list.\n",
    "\n",
    "Load the stroke_data_01.csv and stroke_data_02.csv datasets, merge the two dataframes on the unique id, and use the created function to print the descriptive stats for the following variables:\n",
    "- bmi\n",
    "- avg_glucose_level\n",
    "- age\n",
    "\n",
    "The printed output should look like this:\n",
    "\n",
    "`bmi has a mean = 24.0, median = 23.1, min = 12.2, max = 42.6, and std dev = 6.1`\n",
    "\n",
    "*The above values are not accurate, the sentence is just a representation of how I want the printed line to appear*\n"
   ]
  },
  {
   "cell_type": "code",
   "execution_count": null,
   "id": "f2044f81",
   "metadata": {},
   "outputs": [],
   "source": [
    "import pandas as pd\n",
    "\n",
    "# Write your function here\n",
    "def descriptive_stats():\n",
    "    \n",
    "# Write your main code here\n"
   ]
  },
  {
   "cell_type": "markdown",
   "id": "7d529395",
   "metadata": {},
   "source": [
    "## Problem 13 (20 pts)\n",
    "\n",
    "### Function\n",
    "Write a function that takes a dictionary (as an argument) containing Pearson correlation coefficients for all variable pairs in a dataset (this dictionary will be created in the main code below). **Do not** calculate the Pearson correlation coefficient for the variable and itself (e.g., 'Complexity' and 'Complexity'). The function will return a list of variable pairs (as tuples) that have a correlation greater than or equal to a given threshold (also an argument for the function). For example, `[('MolecularWeight', 'MonoisotopicMass'), ('Complexity', 'HeavyAtomCount')]`\n",
    "\n",
    "### Main code\n",
    "Load the dataset `ddh_data.csv` and calculate the pearson correlation coefficient among all of the pairs of variables (excluding `CID`). Populate a dictionary with the names of the compared variables and the resultant correlation coefficient. This will be a dictionary of dictionaries, e.g., `d['MolecularWeight']['Charge'] = 0.4`. Then apply the defined function to the generated dictionary, returning a list of the paired variables (tuples) that result in a correlation greater than or equal to 0.8. Print the returned list of tuples."
   ]
  },
  {
   "cell_type": "code",
   "execution_count": null,
   "id": "b0ae5c20",
   "metadata": {},
   "outputs": [],
   "source": [
    "import pandas as pd\n",
    "from scipy import stats\n",
    "\n",
    "# Write your function here\n",
    "def corr_filter():\n",
    "\n",
    "    \n",
    "# Write your main code here\n",
    "\n"
   ]
  }
 ],
 "metadata": {
  "kernelspec": {
   "display_name": "Python 3 (ipykernel)",
   "language": "python",
   "name": "python3"
  },
  "language_info": {
   "codemirror_mode": {
    "name": "ipython",
    "version": 3
   },
   "file_extension": ".py",
   "mimetype": "text/x-python",
   "name": "python",
   "nbconvert_exporter": "python",
   "pygments_lexer": "ipython3",
   "version": "3.9.7"
  }
 },
 "nbformat": 4,
 "nbformat_minor": 5
}
