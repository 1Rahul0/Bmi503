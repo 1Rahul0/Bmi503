{
 "cells": [
  {
   "cell_type": "markdown",
   "metadata": {},
   "source": [
    "# Lab Exercise 02\n",
    "---"
   ]
  },
  {
   "cell_type": "markdown",
   "metadata": {},
   "source": [
    "## If...else\n",
    "`if` statements rely on conditional statements to determine whether a block of code will be run.\n",
    "\n",
    "After any statement where we will be defining a block of code (code that will only be run if the condition is met) we must end the condition or statement with a colon, `:`."
   ]
  },
  {
   "cell_type": "code",
   "execution_count": null,
   "metadata": {},
   "outputs": [],
   "source": [
    "# Set variable\n",
    "a = 1\n",
    "# Check if variable is less than a value\n",
    "# If True, print variable\n",
    "if a < 3:\n",
    "    print(a)"
   ]
  },
  {
   "cell_type": "markdown",
   "metadata": {},
   "source": [
    "## Indentation\n",
    "Notice in the above cell we indent the `print` statement. We do this to let pythong know that we want that code to run only if it passes the conditional."
   ]
  },
  {
   "cell_type": "code",
   "execution_count": null,
   "metadata": {},
   "outputs": [],
   "source": [
    "# This code is correct\n",
    "if 1 < 3:\n",
    "    print(1)"
   ]
  },
  {
   "cell_type": "code",
   "execution_count": null,
   "metadata": {},
   "outputs": [],
   "source": [
    "# This code is NOT correct\n",
    "# Can you fix it?\n",
    "if 1 < 3:\n",
    "print(1)"
   ]
  },
  {
   "cell_type": "code",
   "execution_count": null,
   "metadata": {},
   "outputs": [],
   "source": [
    "# This code is NOT correct\n",
    "# Can you fix it?\n",
    "if 1 < 3:\n",
    "    print(1)\n",
    "    print(\"<\")\n",
    "        print(3)"
   ]
  },
  {
   "cell_type": "markdown",
   "metadata": {},
   "source": [
    "## Multiple statements\n",
    "What if we want to check two different conditions? \n",
    "\n",
    "This can be accomplished multiple ways depending on how we want to do it.\n",
    "\n",
    "We can use the logical operators `and` and/or `or` to check multiple conditions in a single statment."
   ]
  },
  {
   "cell_type": "code",
   "execution_count": null,
   "metadata": {},
   "outputs": [],
   "source": [
    "a = 1\n",
    "# Check if a is less than 3 AND a is less than 2\n",
    "if a < 3 and a < 2:\n",
    "    print(\"a is less than 3\")\n",
    "    print(\"a is less than 2\")"
   ]
  },
  {
   "cell_type": "markdown",
   "metadata": {},
   "source": [
    "Or we may want to check if the second condition is `True` after we have confirmed the first condition is `True`. We can do this using a nested statement and block of code."
   ]
  },
  {
   "cell_type": "code",
   "execution_count": null,
   "metadata": {},
   "outputs": [],
   "source": [
    "a = 1\n",
    "# First, check if a is less than 3\n",
    "if a < 3:\n",
    "    print(\"a is less than 3\")\n",
    "    # Second, check if a is less than 2\n",
    "    if a < 2:\n",
    "        print(\"a is less than 2\")"
   ]
  },
  {
   "cell_type": "markdown",
   "metadata": {},
   "source": [
    "Notice in the above the indentation for the nested statement. If the first condition was not `True` then the `print` and second conditional will not be assessed."
   ]
  },
  {
   "cell_type": "code",
   "execution_count": null,
   "metadata": {},
   "outputs": [],
   "source": [
    "a = 1\n",
    "# First, check if a is less than 1\n",
    "if a < 1:\n",
    "    print(\"a is less than 1\")\n",
    "    # Second, check if a is less than 2\n",
    "    if a < 2:\n",
    "        print(\"a is less than 2\")"
   ]
  },
  {
   "cell_type": "markdown",
   "metadata": {},
   "source": [
    "Even though `a` is less than 2 in the above cell, it was never checked because it was a nested conditional."
   ]
  },
  {
   "cell_type": "markdown",
   "metadata": {},
   "source": [
    "Another part of if...else statements is the `elif` keyword, which gives us the ability to check a separate condition if the previous conditions are not met."
   ]
  },
  {
   "cell_type": "code",
   "execution_count": null,
   "metadata": {},
   "outputs": [],
   "source": [
    "a = 1\n",
    "# Check if a is less than 1\n",
    "if a < 1:\n",
    "    print(\"a is less than 1\")\n",
    "# Check if a is less than 2\n",
    "elif a < 2:\n",
    "    print(\"a is less than 2\")"
   ]
  },
  {
   "cell_type": "markdown",
   "metadata": {},
   "source": [
    "Notice how the `elif` condition was met, so that block of code was run. whereas the first condition was not and its corresponding block of code was not run.\n",
    "\n",
    "If we change this up and both conditions are met, then what will happen?"
   ]
  },
  {
   "cell_type": "code",
   "execution_count": null,
   "metadata": {},
   "outputs": [],
   "source": [
    "a = 1\n",
    "# Check if a is less than 3\n",
    "if a < 3:\n",
    "    print(\"a is less than 3\")\n",
    "# Check if a is less than 2\n",
    "elif a < 2:\n",
    "    print(\"a is less than 2\")"
   ]
  },
  {
   "cell_type": "markdown",
   "metadata": {},
   "source": [
    "Another important logical operator is `not`. This allows the user to set a negative condition to be the required condition., i.e., a `False` would result in a `True`/met condition."
   ]
  },
  {
   "cell_type": "code",
   "execution_count": null,
   "metadata": {},
   "outputs": [],
   "source": [
    "a = 1\n",
    "# a < 0 is a False statement\n",
    "print(a < 0)"
   ]
  },
  {
   "cell_type": "code",
   "execution_count": null,
   "metadata": {},
   "outputs": [],
   "source": [
    "a = 1\n",
    "# But, we can check if a is NOT less than 0\n",
    "if not a < 0:\n",
    "    print(\"a is NOT less than 0\")"
   ]
  },
  {
   "cell_type": "markdown",
   "metadata": {},
   "source": [
    "## While loops\n",
    "\n",
    "We can run the same block of code until a specific condition is met."
   ]
  },
  {
   "cell_type": "code",
   "execution_count": null,
   "metadata": {},
   "outputs": [],
   "source": [
    "i = 0\n",
    "# Print i until i is not less than 3\n",
    "while i < 3:\n",
    "    print(i)\n",
    "    i+=1"
   ]
  },
  {
   "cell_type": "markdown",
   "metadata": {},
   "source": [
    "What happens if you create a while loop where the condition is never met?"
   ]
  },
  {
   "cell_type": "code",
   "execution_count": null,
   "metadata": {},
   "outputs": [],
   "source": [
    "i = 0\n",
    "# Print i until i is not less than 3\n",
    "while i < 3:\n",
    "    print(i)\n",
    "    i-=1"
   ]
  },
  {
   "cell_type": "markdown",
   "metadata": {},
   "source": [
    "You can end a loop early using the `break` statement"
   ]
  },
  {
   "cell_type": "code",
   "execution_count": null,
   "metadata": {},
   "outputs": [],
   "source": [
    "i = 0\n",
    "# Print i until i is not less than 3\n",
    "while i < 3:\n",
    "    # End the loop if i equals 1\n",
    "    if i==1:\n",
    "        break\n",
    "    print(i)\n",
    "    i+=1"
   ]
  },
  {
   "cell_type": "markdown",
   "metadata": {},
   "source": [
    "In the above cell, you can see we used a nested `if` statement within a while loop."
   ]
  },
  {
   "cell_type": "markdown",
   "metadata": {},
   "source": [
    "You can skip an iteration of a loop using the `continue` statement"
   ]
  },
  {
   "cell_type": "code",
   "execution_count": null,
   "metadata": {},
   "outputs": [],
   "source": [
    "i = 0\n",
    "# Print i until i is not less than 3\n",
    "while i < 3:\n",
    "    # Continue to the next iteration if i equals 1\n",
    "    if i==1:\n",
    "        i+=1\n",
    "        continue\n",
    "    print(i)\n",
    "    i+=1"
   ]
  },
  {
   "cell_type": "markdown",
   "metadata": {},
   "source": [
    "You can run a block of code after a while loop has terminated using the `else` statement"
   ]
  },
  {
   "cell_type": "code",
   "execution_count": null,
   "metadata": {},
   "outputs": [],
   "source": [
    "i = 0\n",
    "# Print i until i is not less than 3\n",
    "while i < 3:\n",
    "    print(i)\n",
    "    i+=1\n",
    "# Once the loop ends...\n",
    "else:\n",
    "    print(\"i is equal to 3\")"
   ]
  },
  {
   "cell_type": "markdown",
   "metadata": {},
   "source": [
    "## For loops\n",
    "\n",
    "We can iterate over a sequence, such as a list, string, dictionary, etc.\n",
    "\n",
    "To do this, we will use a `for` loop."
   ]
  },
  {
   "cell_type": "code",
   "execution_count": null,
   "metadata": {},
   "outputs": [],
   "source": [
    "l = ['blue','yellow','red']\n",
    "# Iterate over the list\n",
    "for x in l:\n",
    "    print(x)"
   ]
  },
  {
   "cell_type": "markdown",
   "metadata": {},
   "source": [
    "We can also iterate over strings"
   ]
  },
  {
   "cell_type": "code",
   "execution_count": null,
   "metadata": {},
   "outputs": [],
   "source": [
    "s = \"Hello World!\"\n",
    "# Iterate over the string\n",
    "for x in s:\n",
    "    print(x)"
   ]
  },
  {
   "cell_type": "markdown",
   "metadata": {},
   "source": [
    "The `break` and `continue` statements can also be used within for loops."
   ]
  },
  {
   "cell_type": "code",
   "execution_count": null,
   "metadata": {},
   "outputs": [],
   "source": [
    "l = ['blue','yellow','red']\n",
    "# Iterate over the list\n",
    "for x in l:\n",
    "    # End the loop if x equals 'yellow'\n",
    "    if x == 'yellow':\n",
    "        break\n",
    "    print(x)"
   ]
  },
  {
   "cell_type": "code",
   "execution_count": null,
   "metadata": {},
   "outputs": [],
   "source": [
    "l = ['blue','yellow','red']\n",
    "# Iterate over the list\n",
    "for x in l:\n",
    "    # End the loop if x equals 'yellow'\n",
    "    if x == 'yellow':\n",
    "        continue\n",
    "    print(x)"
   ]
  },
  {
   "cell_type": "markdown",
   "metadata": {},
   "source": [
    "What if we want to run a block of code a certain number of times?\n",
    "\n",
    "We can create a list of numbers using the `range()` function. `range()` can take up to 3 arguments (only 1 is required).\n",
    "\n",
    "Providing only one argument sets the ending value for the range (starting at 0), e.g., `range(5)` would result in 0,1,2,3,4"
   ]
  },
  {
   "cell_type": "code",
   "execution_count": null,
   "metadata": {},
   "outputs": [],
   "source": [
    "l = range(3)\n",
    "# Iterate over the list\n",
    "for x in l:\n",
    "    print(x)"
   ]
  },
  {
   "cell_type": "markdown",
   "metadata": {},
   "source": [
    "Passing two arguments sets the starting and ending values of the range, e.g., `range(1,6)` is 1,2,3,4,5"
   ]
  },
  {
   "cell_type": "code",
   "execution_count": null,
   "metadata": {},
   "outputs": [],
   "source": [
    "l = range(1,3)\n",
    "# Iterate over the list\n",
    "for x in l:\n",
    "    print(x)"
   ]
  },
  {
   "cell_type": "markdown",
   "metadata": {},
   "source": [
    "Passing three arguments sets the starting, ending, and increment size values of the range, e.g., `range(1,6,2)` is 1,3,5"
   ]
  },
  {
   "cell_type": "code",
   "execution_count": null,
   "metadata": {},
   "outputs": [],
   "source": [
    "l = range(1,6,2)\n",
    "# Iterate over the list\n",
    "for x in l:\n",
    "    print(x)"
   ]
  },
  {
   "cell_type": "markdown",
   "metadata": {},
   "source": [
    "We can even decrement if we want..."
   ]
  },
  {
   "cell_type": "code",
   "execution_count": null,
   "metadata": {},
   "outputs": [],
   "source": [
    "l = range(6,1,-2)\n",
    "# Iterate over the list\n",
    "for x in l:\n",
    "    print(x)"
   ]
  },
  {
   "cell_type": "markdown",
   "metadata": {},
   "source": [
    "Nested loops can be used to run a loop within a loop. The inner loop gets run for every iteration of the outer loop."
   ]
  },
  {
   "cell_type": "code",
   "execution_count": null,
   "metadata": {},
   "outputs": [],
   "source": [
    "l1 = range(3)\n",
    "l2 = ['blue','yellow','red']\n",
    "# Iterate over the first list\n",
    "for x in l1:\n",
    "    print(x)\n",
    "    # Iterate over the second list\n",
    "    for y in l2:\n",
    "        print(y)"
   ]
  },
  {
   "cell_type": "markdown",
   "metadata": {
    "editable": false
   },
   "source": [
    "# Graded portion\n",
    "\n",
    "---"
   ]
  },
  {
   "cell_type": "markdown",
   "metadata": {
    "editable": false
   },
   "source": [
    "## Problem 01 (5 points)\n",
    "\n",
    "Append the first 5 whole numbers, i.e., 1,2,3..., to a list using a `while` loop. Save the list to a variable named `num_list`\n",
    "\n",
    "Each correct value is worth 1 point. You *MUST* use a `while` loop. "
   ]
  },
  {
   "cell_type": "code",
   "execution_count": null,
   "metadata": {},
   "outputs": [],
   "source": [
    "# Write your code here to answer the question\n",
    "num_list = []\n",
    "\n",
    "#"
   ]
  },
  {
   "cell_type": "code",
   "execution_count": null,
   "metadata": {
    "editable": false
   },
   "outputs": [],
   "source": [
    "# Print true for each correct answer\n",
    "if len(num_list) < 5:\n",
    "    l = range(1,len(num_list)+1)\n",
    "else:\n",
    "    l = range(1,6)\n",
    "for i,j in zip(num_list, l):\n",
    "    print(i==j)"
   ]
  },
  {
   "cell_type": "markdown",
   "metadata": {
    "editable": false
   },
   "source": [
    "## Problem 02 (5 points)\n",
    "\n",
    "Print each of the 4 items in the list `fruits` using a `for` loop. After the `for` loop completes, print \"Done.\" using an `else` statement.\n",
    "\n",
    "Each correct line is worth 1 point. You *MUST* use a `for` loop and an `else` statement. "
   ]
  },
  {
   "cell_type": "code",
   "execution_count": null,
   "metadata": {
    "editable": false
   },
   "outputs": [],
   "source": [
    "# I have defined the variables for you.\n",
    "# RUN THIS CELL FIRST.\n",
    "# DO NOT CHANGE THIS CELL.\n",
    "fruits = ['apples','oranges','bananas','grapes']"
   ]
  },
  {
   "cell_type": "code",
   "execution_count": null,
   "metadata": {},
   "outputs": [],
   "source": [
    "# Write your code here to answer the question\n",
    "\n",
    "\n",
    "#"
   ]
  },
  {
   "cell_type": "markdown",
   "metadata": {
    "editable": false
   },
   "source": [
    "## Problem 03 (10 points)\n",
    "\n",
    "Print the following pattern using two `for` loops (one nested):\n",
    "\n",
    "`0`\n",
    "\n",
    "`0 1`\n",
    "\n",
    "`0 1 2`\n",
    "\n",
    "`0 1 2 3`\n",
    "\n",
    "`0 1 2 3 4`\n",
    "\n",
    "Each correct line is worth 2 points. You *MUST* use two `for` loops."
   ]
  },
  {
   "cell_type": "code",
   "execution_count": null,
   "metadata": {},
   "outputs": [],
   "source": [
    "# Write your code here to answer the question\n",
    "\n",
    "\n",
    "#"
   ]
  }
 ],
 "metadata": {
  "celltoolbar": "Edit Metadata",
  "kernelspec": {
   "display_name": "Python 3",
   "language": "python",
   "name": "python3"
  },
  "language_info": {
   "codemirror_mode": {
    "name": "ipython",
    "version": 3
   },
   "file_extension": ".py",
   "mimetype": "text/x-python",
   "name": "python",
   "nbconvert_exporter": "python",
   "pygments_lexer": "ipython3",
   "version": "3.8.5"
  }
 },
 "nbformat": 4,
 "nbformat_minor": 4
}
