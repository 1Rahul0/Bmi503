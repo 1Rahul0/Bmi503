{
 "cells": [
  {
   "cell_type": "markdown",
   "id": "06fe5b8b",
   "metadata": {},
   "source": [
    "# Lab Exercise 04\n",
    "---"
   ]
  },
  {
   "cell_type": "markdown",
   "id": "f0d96275",
   "metadata": {},
   "source": [
    "## Pandas\n",
    "\n",
    "Pandas is a very useful python package for data scientists and biomedical informaticians.\n",
    "Enables programmers to load, manipulate, clean, and analyze large datasets\n",
    "\n",
    "Use the `import` keyword to load the pandas module. Use the `as` keyword to set an alias for the module."
   ]
  },
  {
   "cell_type": "code",
   "execution_count": null,
   "id": "2c904a79",
   "metadata": {},
   "outputs": [],
   "source": [
    "import pandas as pd"
   ]
  },
  {
   "cell_type": "markdown",
   "id": "3bc8199e",
   "metadata": {},
   "source": [
    "## Pandas Series\n",
    "\n",
    "Series is one of two Pandas data structures.\n",
    "\n",
    "Series is a 1 dimensional array of data, similar to a column in a data table\n",
    "\n"
   ]
  },
  {
   "cell_type": "code",
   "execution_count": null,
   "id": "567e550f",
   "metadata": {},
   "outputs": [],
   "source": [
    "l = [1,2,3,4]\n",
    "s = pd.Series(l)\n",
    "print(s)"
   ]
  },
  {
   "cell_type": "markdown",
   "id": "8b3d0f19",
   "metadata": {},
   "source": [
    "Each item in the Series has a corresponding index. You can set the index using the `index` argument.\n"
   ]
  },
  {
   "cell_type": "code",
   "execution_count": null,
   "id": "36c70a60",
   "metadata": {},
   "outputs": [],
   "source": [
    "l = [1,2,3,4]\n",
    "s = pd.Series(l, index=['a','b','c','d'])\n",
    "print(s)"
   ]
  },
  {
   "cell_type": "markdown",
   "id": "42ddda29",
   "metadata": {},
   "source": [
    "## Pandas DataFrame\n",
    "\n",
    "Dataframe is a 2 dimensional array of data, similar to a table with multiple rows and columns\n"
   ]
  },
  {
   "cell_type": "code",
   "execution_count": null,
   "id": "66deaff2",
   "metadata": {},
   "outputs": [],
   "source": [
    "l = [[1,2,3],[2,3,4]]\n",
    "df = pd.DataFrame(l)\n",
    "print(df)"
   ]
  },
  {
   "cell_type": "markdown",
   "id": "7ac4d611",
   "metadata": {},
   "source": [
    "Both the index and comlumn names can be defined by the user using `index` and `column` keywords."
   ]
  },
  {
   "cell_type": "code",
   "execution_count": null,
   "id": "a30f7219",
   "metadata": {},
   "outputs": [],
   "source": [
    "l = [[1,2,3],[2,3,4]]\n",
    "df = pd.DataFrame(l,index=['a','b'], columns=['one','two','three'])\n",
    "print(df)"
   ]
  },
  {
   "cell_type": "markdown",
   "id": "6dea71fe",
   "metadata": {},
   "source": [
    "## Load datasets\n",
    "\n",
    "Load data using Pandas functions. Which function used depends on the file format. .csv (comma separated values) is a common format for flat data files.\n",
    "Use the `read_csv()` function to load data from this file type.\n"
   ]
  },
  {
   "cell_type": "code",
   "execution_count": null,
   "id": "946ac4e1",
   "metadata": {},
   "outputs": [],
   "source": [
    "df = pd.read_csv(\"diabetes.csv\")\n",
    "print(df)"
   ]
  },
  {
   "cell_type": "markdown",
   "id": "7b2f81e6",
   "metadata": {},
   "source": [
    "JSON is another popular file format for large datasets. Load this data using `read_json()`."
   ]
  },
  {
   "cell_type": "code",
   "execution_count": null,
   "id": "09d2cd47",
   "metadata": {},
   "outputs": [],
   "source": [
    "df = pd.read_json(\"diabetes.json\")\n",
    "print(df)"
   ]
  },
  {
   "cell_type": "markdown",
   "id": "0dd123df",
   "metadata": {},
   "source": [
    "To see what the JSON file format looks like you can read the file in and print it to line. You will notice it looks similar to a dictionary."
   ]
  },
  {
   "cell_type": "code",
   "execution_count": null,
   "id": "dd3dac9c",
   "metadata": {},
   "outputs": [],
   "source": [
    "with open(\"diabetes.json\") as f:\n",
    "    print(f.read())"
   ]
  },
  {
   "cell_type": "markdown",
   "id": "29911b97",
   "metadata": {},
   "source": [
    "## Saving dataframes\n",
    "\n",
    "You can write DataFrames to file using `to_csv()` or `to_json()`."
   ]
  },
  {
   "cell_type": "code",
   "execution_count": null,
   "id": "adf4433a",
   "metadata": {},
   "outputs": [],
   "source": [
    "df = pd.read_csv(\"diabetes.csv\")\n",
    "df.to_csv(\"test04.csv\")"
   ]
  },
  {
   "cell_type": "code",
   "execution_count": null,
   "id": "33ad38a8",
   "metadata": {},
   "outputs": [],
   "source": [
    "with open(\"test04.csv\") as f:\n",
    "    print(f.read())"
   ]
  },
  {
   "cell_type": "markdown",
   "id": "1de1509a",
   "metadata": {},
   "source": [
    "You can change the delimiter (character that separates each value in the file). For csv, the default is a comma (,), but you can change it to any character using the `sep` argument."
   ]
  },
  {
   "cell_type": "code",
   "execution_count": null,
   "id": "0578acc4",
   "metadata": {},
   "outputs": [],
   "source": [
    "df = pd.read_csv(\"diabetes.csv\")\n",
    "df.to_csv(\"test04.tsv\", sep='\\t')"
   ]
  },
  {
   "cell_type": "code",
   "execution_count": null,
   "id": "e8f4253b",
   "metadata": {},
   "outputs": [],
   "source": [
    "with open(\"test04.tsv\") as f:\n",
    "    print(f.read())"
   ]
  },
  {
   "cell_type": "markdown",
   "id": "68fee6c2",
   "metadata": {},
   "source": [
    "## Selecting data\n",
    "\n",
    "View all column names and index names using `columns` and `index` attributes."
   ]
  },
  {
   "cell_type": "code",
   "execution_count": null,
   "id": "5a52418d",
   "metadata": {},
   "outputs": [],
   "source": [
    "df = pd.read_csv(\"diabetes.csv\")\n",
    "df.columns"
   ]
  },
  {
   "cell_type": "code",
   "execution_count": null,
   "id": "ceeafb9d",
   "metadata": {},
   "outputs": [],
   "source": [
    "df = pd.read_csv(\"diabetes.csv\")\n",
    "df.index"
   ]
  },
  {
   "cell_type": "markdown",
   "id": "60e5e81e",
   "metadata": {},
   "source": [
    "You can select specific rows, columns, or cells in the dataframe using the `.loc[]` attirbute.\n",
    "First, let's select an entire row."
   ]
  },
  {
   "cell_type": "code",
   "execution_count": null,
   "id": "f3c249df",
   "metadata": {},
   "outputs": [],
   "source": [
    "df = pd.read_csv(\"diabetes.csv\")\n",
    "df.loc[0]"
   ]
  },
  {
   "cell_type": "markdown",
   "id": "f5170854",
   "metadata": {},
   "source": [
    "Or an entire column. Similar to splices of arrays, the colon, `:`, selects all of the items (rows in this case). The second item in the `[]` is the column name."
   ]
  },
  {
   "cell_type": "code",
   "execution_count": null,
   "id": "49be9dc6",
   "metadata": {},
   "outputs": [],
   "source": [
    "df = pd.read_csv(\"diabetes.csv\")\n",
    "df.loc[:,'Pregnancies']"
   ]
  },
  {
   "cell_type": "markdown",
   "id": "60a8e977",
   "metadata": {},
   "source": [
    "We can also select multiple columns or indices."
   ]
  },
  {
   "cell_type": "code",
   "execution_count": null,
   "id": "d1a0a184",
   "metadata": {},
   "outputs": [],
   "source": [
    "df = pd.read_csv(\"diabetes.csv\")\n",
    "df.loc[:,['Pregnancies','Glucose']]"
   ]
  },
  {
   "cell_type": "markdown",
   "id": "b4b4d8ee",
   "metadata": {},
   "source": [
    "Easier way to select a column is using the column name with square brackets."
   ]
  },
  {
   "cell_type": "code",
   "execution_count": null,
   "id": "5050c7a5",
   "metadata": {},
   "outputs": [],
   "source": [
    "df = pd.read_csv(\"diabetes.csv\")\n",
    "df['Pregnancies']"
   ]
  },
  {
   "cell_type": "markdown",
   "id": "7ffe0850",
   "metadata": {},
   "source": [
    "Or using the column name as an attribute."
   ]
  },
  {
   "cell_type": "code",
   "execution_count": null,
   "id": "affda23d",
   "metadata": {},
   "outputs": [],
   "source": [
    "df = pd.read_csv(\"diabetes.csv\")\n",
    "df.Pregnancies"
   ]
  },
  {
   "cell_type": "markdown",
   "id": "eb5cf354",
   "metadata": {},
   "source": [
    "Now let's select just one item/cell in the dataframe."
   ]
  },
  {
   "cell_type": "code",
   "execution_count": null,
   "id": "bb53ec9e",
   "metadata": {},
   "outputs": [],
   "source": [
    "df = pd.read_csv(\"diabetes.csv\")\n",
    "df.loc[2,'Pregnancies']"
   ]
  },
  {
   "cell_type": "markdown",
   "id": "5fd362f3",
   "metadata": {},
   "source": [
    "The attribute `.iloc[]` is similar to loc, but uses the positional label for index and columns. To get the same value that the line `df.loc[2,'Pregnancies']` got us, we will have to use the number index for each."
   ]
  },
  {
   "cell_type": "code",
   "execution_count": null,
   "id": "e7966113",
   "metadata": {
    "scrolled": true
   },
   "outputs": [],
   "source": [
    "df.iloc[2,0]"
   ]
  },
  {
   "cell_type": "markdown",
   "id": "1302a18a",
   "metadata": {},
   "source": [
    "You can also select all rows where a certain condition is met."
   ]
  },
  {
   "cell_type": "code",
   "execution_count": null,
   "id": "9c127c06",
   "metadata": {
    "scrolled": false
   },
   "outputs": [],
   "source": [
    "df = pd.read_csv(\"diabetes.csv\")\n",
    "df.loc[(df['Pregnancies']==3)]"
   ]
  },
  {
   "cell_type": "code",
   "execution_count": null,
   "id": "0ab8ad05",
   "metadata": {},
   "outputs": [],
   "source": [
    "df = pd.read_csv(\"diabetes.csv\")\n",
    "df.loc[(df['BMI']>=39.9)]"
   ]
  },
  {
   "cell_type": "markdown",
   "id": "052332cc",
   "metadata": {},
   "source": [
    "## Checking your data\n",
    "\n",
    "You can view the first N lines of your dataframe using the `head()` method. "
   ]
  },
  {
   "cell_type": "code",
   "execution_count": null,
   "id": "fa8bbb77",
   "metadata": {},
   "outputs": [],
   "source": [
    "df = pd.read_csv(\"diabetes.csv\")\n",
    "df.head()"
   ]
  },
  {
   "cell_type": "markdown",
   "id": "0f881f32",
   "metadata": {},
   "source": [
    "You can modify how many rows are outputted by passing an integer argument to `head()`."
   ]
  },
  {
   "cell_type": "code",
   "execution_count": null,
   "id": "95ad53ed",
   "metadata": {},
   "outputs": [],
   "source": [
    "df = pd.read_csv(\"diabetes.csv\")\n",
    "df.head(10)"
   ]
  },
  {
   "cell_type": "markdown",
   "id": "89a7a28e",
   "metadata": {},
   "source": [
    "`tail()` gives the last N lines. Same argument applies as with `head()`."
   ]
  },
  {
   "cell_type": "code",
   "execution_count": null,
   "id": "3b1806dc",
   "metadata": {
    "scrolled": true
   },
   "outputs": [],
   "source": [
    "df = pd.read_csv(\"diabetes.csv\")\n",
    "df.tail()"
   ]
  },
  {
   "cell_type": "code",
   "execution_count": null,
   "id": "bc2cb8e3",
   "metadata": {},
   "outputs": [],
   "source": [
    "df = pd.read_csv(\"diabetes.csv\")\n",
    "df.tail(10)"
   ]
  },
  {
   "cell_type": "markdown",
   "id": "dcf2e056",
   "metadata": {},
   "source": [
    "Get the length (number of rows) of the dataframe using the `len()` function."
   ]
  },
  {
   "cell_type": "code",
   "execution_count": null,
   "id": "95f57ac8",
   "metadata": {},
   "outputs": [],
   "source": [
    "df = pd.read_csv(\"diabetes.csv\")\n",
    "len(df)"
   ]
  },
  {
   "cell_type": "markdown",
   "id": "f67a8df2",
   "metadata": {},
   "source": [
    "The `info()` method gives in-depth information about the dataframe."
   ]
  },
  {
   "cell_type": "code",
   "execution_count": null,
   "id": "b4ccbaec",
   "metadata": {},
   "outputs": [],
   "source": [
    "df = pd.read_csv(\"diabetes.csv\")\n",
    "df.info()"
   ]
  },
  {
   "cell_type": "markdown",
   "id": "730f9c38",
   "metadata": {},
   "source": [
    "## Data Cleaning\n",
    "\n",
    "We can remove missing data using the `dropna()` method. This will identify rows that have Null values and drop those rows from the dataframe."
   ]
  },
  {
   "cell_type": "code",
   "execution_count": null,
   "id": "5fd342c0",
   "metadata": {},
   "outputs": [],
   "source": [
    "df = pd.read_csv(\"diabetes.csv\")\n",
    "print(f\"Original df has {len(df)} samples.\")\n",
    "\n",
    "df = df.dropna()\n",
    "print(f\"Cleaned df has {len(df)} samples.\")"
   ]
  },
  {
   "cell_type": "markdown",
   "id": "3867bbed",
   "metadata": {},
   "source": [
    "`dropna()` returns a modified dataframe, so we much reassign the varialbe `df` to get the cleaned dataframe. Use the `inplace` argument to modified the original dataframe."
   ]
  },
  {
   "cell_type": "code",
   "execution_count": null,
   "id": "d2816db8",
   "metadata": {},
   "outputs": [],
   "source": [
    "df = pd.read_csv(\"diabetes.csv\")\n",
    "print(f\"Original df has {len(df)} samples.\")\n",
    "\n",
    "df.dropna(inplace=True)\n",
    "print(f\"Cleaned df has {len(df)} samples.\")"
   ]
  },
  {
   "cell_type": "markdown",
   "id": "386af72a",
   "metadata": {},
   "source": [
    "Rather than remove the samples (rows) with missing data, you can replace the missing values with a user defined value using the `fillna()` method."
   ]
  },
  {
   "cell_type": "code",
   "execution_count": null,
   "id": "e7e2c42f",
   "metadata": {},
   "outputs": [],
   "source": [
    "df = pd.read_csv(\"diabetes.csv\")\n",
    "df.loc[2,'BloodPressure']"
   ]
  },
  {
   "cell_type": "code",
   "execution_count": null,
   "id": "d5ea830f",
   "metadata": {},
   "outputs": [],
   "source": [
    "df.fillna(120, inplace=True)\n",
    "df.loc[2,'BloodPressure']"
   ]
  },
  {
   "cell_type": "markdown",
   "id": "671d6369",
   "metadata": {},
   "source": [
    "Some datasets may have redundant data, which can cause bias in our analyses. We can remove these duplicates quickly using pandas. Use the `duplicated()` method to identify the rows that are duplicates. Then use the `drop_duplicates()` method to remove the redundant rows (keeping the first instance)."
   ]
  },
  {
   "cell_type": "code",
   "execution_count": null,
   "id": "bd0a996d",
   "metadata": {},
   "outputs": [],
   "source": [
    "df = pd.read_csv(\"diabetes.csv\")\n",
    "df.duplicated()"
   ]
  },
  {
   "cell_type": "markdown",
   "id": "825f128d",
   "metadata": {},
   "source": [
    "We can use the `drop()` method to remove the rows that are False to give us the indicies where the duplicate rows exist."
   ]
  },
  {
   "cell_type": "code",
   "execution_count": null,
   "id": "d3b0aa52",
   "metadata": {},
   "outputs": [],
   "source": [
    "df = pd.read_csv(\"diabetes.csv\")\n",
    "df_dup = df.duplicated()\n",
    "for i in df_dup.index:\n",
    "    if df_dup.loc[i] == False:\n",
    "        df_dup.drop(i,inplace=True)\n",
    "print(df_dup)"
   ]
  },
  {
   "cell_type": "markdown",
   "id": "fd535cbb",
   "metadata": {},
   "source": [
    "If you want to cahnge any value in the dataset you can do so with the `loc[]` attirbute and reassigning the item like a variable."
   ]
  },
  {
   "cell_type": "code",
   "execution_count": null,
   "id": "abd931ff",
   "metadata": {
    "scrolled": true
   },
   "outputs": [],
   "source": [
    "df = pd.read_csv(\"diabetes.csv\")\n",
    "print(df.loc[2,'BloodPressure'])\n",
    "df.loc[2,'BloodPressure'] = 120\n",
    "print(df.loc[2,'BloodPressure'])"
   ]
  },
  {
   "cell_type": "markdown",
   "id": "2b018295",
   "metadata": {},
   "source": [
    "## Some other functions and methods\n",
    "\n",
    "You can use `max()` and `min()` methods to find the maximum and minimum vlaues for a dataframe or specific columnn."
   ]
  },
  {
   "cell_type": "code",
   "execution_count": null,
   "id": "42946f1e",
   "metadata": {},
   "outputs": [],
   "source": [
    "df = pd.read_csv(\"diabetes.csv\")\n",
    "df.min()"
   ]
  },
  {
   "cell_type": "code",
   "execution_count": null,
   "id": "f6bb434a",
   "metadata": {},
   "outputs": [],
   "source": [
    "df = pd.read_csv(\"diabetes.csv\")\n",
    "df.Pregnancies.min()"
   ]
  },
  {
   "cell_type": "code",
   "execution_count": null,
   "id": "7984da48",
   "metadata": {},
   "outputs": [],
   "source": [
    "df = pd.read_csv(\"diabetes.csv\")\n",
    "df['Pregnancies'].max()"
   ]
  },
  {
   "cell_type": "markdown",
   "id": "aa28983c",
   "metadata": {},
   "source": [
    "Can also calculate descriptive statistics quickly using `mean()`, `median()`, and `mode()`."
   ]
  },
  {
   "cell_type": "code",
   "execution_count": null,
   "id": "fd38568a",
   "metadata": {},
   "outputs": [],
   "source": [
    "df = pd.read_csv(\"diabetes.csv\")\n",
    "df['Pregnancies'].mean()"
   ]
  },
  {
   "cell_type": "code",
   "execution_count": null,
   "id": "fd04fe47",
   "metadata": {},
   "outputs": [],
   "source": [
    "df = pd.read_csv(\"diabetes.csv\")\n",
    "df['Pregnancies'].median()"
   ]
  },
  {
   "cell_type": "code",
   "execution_count": null,
   "id": "499334d1",
   "metadata": {},
   "outputs": [],
   "source": [
    "df = pd.read_csv(\"diabetes.csv\")\n",
    "df['Pregnancies'].mode()"
   ]
  },
  {
   "cell_type": "markdown",
   "id": "d456e381",
   "metadata": {},
   "source": [
    "# Graded portion\n",
    "---"
   ]
  },
  {
   "cell_type": "markdown",
   "id": "46adcfcc",
   "metadata": {},
   "source": [
    "## Problem 01 (5 points)\n",
    "\n",
    "Create a dataframe, `df_animals`, with three samples (rows) and three columns. The index names are `'a','b', 'c'` and the column names are `'name','color','mammal'`. The samples should contain the following information:\n",
    "- tiger, orange, True\n",
    "- elephant, grey, True\n",
    "- crocodile, green, False\n",
    "\n",
    "1 point for correct indicies, 1 point for correct columns, 3 points for each correct row."
   ]
  },
  {
   "cell_type": "code",
   "execution_count": null,
   "id": "bdf5dd45",
   "metadata": {},
   "outputs": [],
   "source": [
    "# Write your code here to answer the question\n",
    "\n",
    "#"
   ]
  },
  {
   "cell_type": "code",
   "execution_count": null,
   "id": "fba06758",
   "metadata": {},
   "outputs": [],
   "source": [
    "# Test the function\n",
    "print(df.index.to_list()==['a','b','c'])\n",
    "print(df.columns.to_list()==['name','color','mammal'])\n",
    "print(df.iloc[0].to_list()==['tiger','orange',True])\n",
    "print(df.iloc[1].to_list()==['elephant','grey',True])\n",
    "print(df.iloc[2].to_list()==['crocodile','green',False])"
   ]
  },
  {
   "cell_type": "markdown",
   "id": "6730ecaf",
   "metadata": {},
   "source": [
    "## Problem 02 (5 points)\n",
    "\n",
    "Read in the csv file \"LE04-P02-patients.csv\" as a dataframe, drop rows with missing data, drop redundant rows, and save the updated dataframe as \"new_patients.json\"."
   ]
  },
  {
   "cell_type": "code",
   "execution_count": null,
   "id": "b7c41b10",
   "metadata": {},
   "outputs": [],
   "source": [
    "# Write your code here to answer the question\n",
    "\n",
    "#"
   ]
  },
  {
   "cell_type": "code",
   "execution_count": null,
   "id": "b5d9dc24",
   "metadata": {},
   "outputs": [],
   "source": [
    "# Test the function\n",
    "df = pd.read_json(\"new_patients.json\")\n",
    "print(df['Pregnancies'].isnull().sum()==0)\n",
    "print(df['Glucose'].isnull().sum()==0)\n",
    "print(df['BMI'].isnull().sum()==0)\n",
    "df_dup = df.duplicated()\n",
    "for i in df_dup.index:\n",
    "    if df_dup[i]==True:\n",
    "        print(\"Duplicate still exists.\")\n",
    "        break\n",
    "print(\"No duplicates.\")"
   ]
  },
  {
   "cell_type": "markdown",
   "id": "2ca1c5a4",
   "metadata": {},
   "source": [
    "## Problem 03 (10 points)\n",
    "\n",
    "Read in the json file \"LE04-P03-patients.json\" and create a dictionary, `d_p3`, which has each column name as a key and the min, max, mean, median, and mode values for each column in a list as the corresponding values.\n",
    "\n",
    "Ex. Column \"Height\" has a min value of 1.2, a max value of 2.0, a mean value of 1.4, and median value of 1.5 --- `d_p3 = {\"Height\": [1.2,2.0,1.4,1.5]}`"
   ]
  },
  {
   "cell_type": "code",
   "execution_count": null,
   "id": "4b6096af",
   "metadata": {},
   "outputs": [],
   "source": [
    "# Write your code here to answer the question\n",
    "\n",
    "#"
   ]
  },
  {
   "cell_type": "code",
   "execution_count": null,
   "id": "ca001c9f",
   "metadata": {},
   "outputs": [],
   "source": [
    "# Test the function\n",
    "print(d_p3['Pregnancies']==[0, 15, 4.12, 3.0])\n",
    "print(d_p3['Glucose']==[0, 197, 117.05, 110.5])\n",
    "print(d_p3['BloodPressure']==[0, 122, 68.12, 71.0])\n",
    "print(d_p3['SkinThickness']==[0, 60, 20.18, 22.5])\n",
    "print(d_p3['Insulin']==[0, 846, 75.17, 0.0])"
   ]
  },
  {
   "cell_type": "code",
   "execution_count": null,
   "id": "d1838564",
   "metadata": {},
   "outputs": [],
   "source": []
  }
 ],
 "metadata": {
  "kernelspec": {
   "display_name": "Python 3 (ipykernel)",
   "language": "python",
   "name": "python3"
  },
  "language_info": {
   "codemirror_mode": {
    "name": "ipython",
    "version": 3
   },
   "file_extension": ".py",
   "mimetype": "text/x-python",
   "name": "python",
   "nbconvert_exporter": "python",
   "pygments_lexer": "ipython3",
   "version": "3.9.7"
  }
 },
 "nbformat": 4,
 "nbformat_minor": 5
}
