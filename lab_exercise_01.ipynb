{
 "cells": [
  {
   "cell_type": "markdown",
   "id": "1504b302",
   "metadata": {},
   "source": [
    "# Lab Exercise 01\n",
    "---"
   ]
  },
  {
   "cell_type": "markdown",
   "id": "f6027f4a",
   "metadata": {
    "editable": false
   },
   "source": [
    "# Graded Portion\n",
    "---\n",
    "\n",
    "## Problem 01 (3 points)\n",
    "Cast the following variables to make them into the desired data type. Print each variable as the correct data type.\n",
    "\n",
    "1. x needs to be float\n",
    "2. y needs to be string\n",
    "3. z needs to be int\n",
    "\n",
    "Each correct variable worth 1 point."
   ]
  },
  {
   "cell_type": "code",
   "execution_count": null,
   "id": "7141b0ca",
   "metadata": {
    "editable": false
   },
   "outputs": [],
   "source": [
    "# I have defined the variables for you.\n",
    "# RUN THIS CELL FIRST.\n",
    "# DO NOT CHANGE THIS CELL.\n",
    "x = 5\n",
    "y = 42\n",
    "z = \"1\""
   ]
  },
  {
   "cell_type": "code",
   "execution_count": null,
   "id": "98b5d64c",
   "metadata": {},
   "outputs": [],
   "source": [
    "# Write your code here to answer the question\n",
    "\n",
    "\n",
    "#"
   ]
  },
  {
   "cell_type": "code",
   "execution_count": null,
   "id": "4dbbfa4a",
   "metadata": {
    "editable": false
   },
   "outputs": [],
   "source": [
    "# Print true or false for each correct answer\n",
    "print(type(x) is int)\n",
    "print(type(y) is str)\n",
    "print(type(z) is float)"
   ]
  },
  {
   "cell_type": "markdown",
   "id": "966a55c7",
   "metadata": {
    "editable": false
   },
   "source": [
    "## Problem 02 (3 points)\n",
    "Make variables p1, p2, and p3 equal to the desired value. Assign variables p1, p2, and p3 using only variables i, j, and k. Print the resulting variables.\n",
    "\n",
    "1. p1 == 2187\n",
    "2. p2 == 39\n",
    "3. p3 == 0\n",
    "\n",
    "Each correct variable worth 1 point.\n",
    "\n",
    "*Hint: None of the answers require more than three variables and a variable is never used more than once in the same answer.*"
   ]
  },
  {
   "cell_type": "code",
   "execution_count": null,
   "id": "bd6eacfa",
   "metadata": {
    "editable": false
   },
   "outputs": [],
   "source": [
    "# I have defined the variables for you.\n",
    "# RUN THIS CELL FIRST.\n",
    "# DO NOT CHANGE THIS CELL.\n",
    "i = 3\n",
    "j = 7\n",
    "k = 10"
   ]
  },
  {
   "cell_type": "code",
   "execution_count": null,
   "id": "9e99a663",
   "metadata": {},
   "outputs": [],
   "source": [
    "# Write your code here to answer the question\n",
    "p1 = \n",
    "p2 = \n",
    "p3 = \n",
    "#"
   ]
  },
  {
   "cell_type": "code",
   "execution_count": null,
   "id": "c24dfa67",
   "metadata": {
    "editable": false
   },
   "outputs": [],
   "source": [
    "# Print true or false for each correct answer\n",
    "print(p1==2187)\n",
    "print(p2==39)\n",
    "print(p3==0)"
   ]
  },
  {
   "cell_type": "markdown",
   "id": "e3fd69c2",
   "metadata": {
    "editable": false
   },
   "source": [
    "## Problem 03 (4 points)\n",
    "Create a list and assign it to variable `x_list`. The list must be in ascending order (0 to 3) using the following variables:\n",
    "\n",
    "- a = 1\n",
    "- b = 3\n",
    "- c = 0\n",
    "- d = 2\n",
    "\n",
    "The answer is either correct or not."
   ]
  },
  {
   "cell_type": "code",
   "execution_count": null,
   "id": "256fe304",
   "metadata": {
    "editable": false
   },
   "outputs": [],
   "source": [
    "# I have defined the variables for you.\n",
    "# RUN THIS CELL FIRST.\n",
    "# DO NOT CHANGE THIS CELL.\n",
    "a = 1\n",
    "b = 3\n",
    "c = 0\n",
    "d = 2"
   ]
  },
  {
   "cell_type": "code",
   "execution_count": null,
   "id": "23cd6082",
   "metadata": {},
   "outputs": [],
   "source": [
    "# Write your code here to answer the question\n",
    "x_list = \n",
    "\n",
    "#"
   ]
  },
  {
   "cell_type": "code",
   "execution_count": null,
   "id": "a3b4b134",
   "metadata": {
    "editable": false
   },
   "outputs": [],
   "source": [
    "# Print true or false for correct answer\n",
    "print(x_list == [0,1,2,3])"
   ]
  }
 ],
 "metadata": {
  "celltoolbar": "Edit Metadata",
  "kernelspec": {
   "display_name": "Python 3 (ipykernel)",
   "language": "python",
   "name": "python3"
  },
  "language_info": {
   "codemirror_mode": {
    "name": "ipython",
    "version": 3
   },
   "file_extension": ".py",
   "mimetype": "text/x-python",
   "name": "python",
   "nbconvert_exporter": "python",
   "pygments_lexer": "ipython3",
   "version": "3.9.7"
  }
 },
 "nbformat": 4,
 "nbformat_minor": 5
}
