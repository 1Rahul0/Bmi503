{
 "cells": [
  {
   "cell_type": "markdown",
   "id": "1504b302",
   "metadata": {},
   "source": [
    "# Lab Exercise 01\n",
    "---\n",
    "\n",
    "## Data types\n",
    "\n",
    "- Integer\n",
    "- String\n",
    "- Float\n",
    "- NoneType"
   ]
  },
  {
   "cell_type": "code",
   "execution_count": null,
   "id": "99f9ad78",
   "metadata": {},
   "outputs": [],
   "source": [
    "# This is an integer\n",
    "x = 4\n",
    "print(x)\n",
    "print(type(x))"
   ]
  },
  {
   "cell_type": "code",
   "execution_count": null,
   "id": "04b813d2",
   "metadata": {},
   "outputs": [],
   "source": [
    "# This is a float\n",
    "x = 4.0\n",
    "print(x)\n",
    "print(type(x))"
   ]
  },
  {
   "cell_type": "code",
   "execution_count": null,
   "id": "964c63ad",
   "metadata": {},
   "outputs": [],
   "source": [
    "# This is a string\n",
    "x = \"4\"\n",
    "print(x)\n",
    "print(type(x))"
   ]
  },
  {
   "cell_type": "code",
   "execution_count": null,
   "id": "c0dc4a0b",
   "metadata": {},
   "outputs": [],
   "source": [
    "# This is a NoneType\n",
    "x = None\n",
    "print(x)\n",
    "print(type(x))"
   ]
  },
  {
   "cell_type": "markdown",
   "id": "accd68db",
   "metadata": {},
   "source": [
    "## Type casting\n",
    "Reset an assigned variable as a new data type\n",
    "\n",
    "- `int()`\n",
    "- `float()`\n",
    "- `str()`\n",
    "\n",
    "Use `type()` to determine variable data type."
   ]
  },
  {
   "cell_type": "code",
   "execution_count": null,
   "id": "60677c26",
   "metadata": {},
   "outputs": [],
   "source": [
    "# Set x as int\n",
    "x = 4\n",
    "print(type(x))\n",
    "\n",
    "# Cast x as a float\n",
    "x = float(x)\n",
    "print(type(x))"
   ]
  },
  {
   "cell_type": "markdown",
   "id": "9b72dcf5",
   "metadata": {},
   "source": [
    "### Practice\n",
    "Cast x as an int"
   ]
  },
  {
   "cell_type": "code",
   "execution_count": null,
   "id": "d085cd3d",
   "metadata": {},
   "outputs": [],
   "source": [
    "# x is a str\n",
    "x = \"4\"\n",
    "# Cast x as an int\n",
    "x = "
   ]
  },
  {
   "cell_type": "markdown",
   "id": "fe1f2781",
   "metadata": {},
   "source": [
    "## Strings and string manipulation\n",
    "\n",
    "Strings are like arrays in python. You can select any character in the string by selecting its index.\n",
    "\n",
    "Python is a zero index language, i.e., the first position in an array is 0."
   ]
  },
  {
   "cell_type": "code",
   "execution_count": null,
   "id": "4d1f118e",
   "metadata": {
    "scrolled": true
   },
   "outputs": [],
   "source": [
    "# Set x as a string\n",
    "x = \"Hello World\"\n",
    "print(x)"
   ]
  },
  {
   "cell_type": "code",
   "execution_count": null,
   "id": "d465b01e",
   "metadata": {},
   "outputs": [],
   "source": [
    "# Print the H in Hello World\n",
    "print(x[0:5])"
   ]
  },
  {
   "cell_type": "markdown",
   "id": "46a57174",
   "metadata": {},
   "source": [
    "Determine the length of a string (or any array) using `len()`"
   ]
  },
  {
   "cell_type": "code",
   "execution_count": null,
   "id": "bdda9192",
   "metadata": {
    "scrolled": false
   },
   "outputs": [],
   "source": [
    "# Print the length of x, i.e., Hello World\n",
    "print(len(x))"
   ]
  },
  {
   "cell_type": "markdown",
   "id": "a682cc26",
   "metadata": {},
   "source": [
    "Concatenate strings using `+` operator"
   ]
  },
  {
   "cell_type": "code",
   "execution_count": null,
   "id": "c36c4090",
   "metadata": {
    "scrolled": true
   },
   "outputs": [],
   "source": [
    "x = \"Hello\"\n",
    "y = \"World\"\n",
    "print(x + \" \" + y)"
   ]
  },
  {
   "cell_type": "markdown",
   "id": "6b0f79dc",
   "metadata": {},
   "source": [
    "Use the `format()` method to incorporate non string variables into a string."
   ]
  },
  {
   "cell_type": "code",
   "execution_count": null,
   "id": "ed543836",
   "metadata": {},
   "outputs": [],
   "source": [
    "x = \"Hello World\"\n",
    "y = 1000\n",
    "print(\"{0} World {0}\".format(x[-2],y))"
   ]
  },
  {
   "cell_type": "markdown",
   "id": "497d4087",
   "metadata": {},
   "source": [
    "### Practice\n",
    "\n",
    "What is wrong with the cell below? Fix it."
   ]
  },
  {
   "cell_type": "code",
   "execution_count": null,
   "id": "6ef93832",
   "metadata": {
    "scrolled": true
   },
   "outputs": [],
   "source": [
    "x = \"The Ultimate Answer to Life, The Universe and Everything is...\"\n",
    "y = 42\n",
    "print(x + y)"
   ]
  },
  {
   "cell_type": "markdown",
   "id": "55560d74",
   "metadata": {},
   "source": [
    "## Data structures\n",
    "\n",
    "Enables storage of multiple values in a single variable\n",
    "\n",
    "- Lists\n",
    "- Dictionaries\n",
    "- Tuples\n",
    "- Sets"
   ]
  },
  {
   "cell_type": "markdown",
   "id": "0e38e50b",
   "metadata": {},
   "source": [
    "## Lists\n",
    "\n",
    "Create a list using square brackets `[ ]`\n",
    "\n",
    "Can contain heteroegenous data types, i.e. `[1, 'a', 4.0]`\n",
    "\n",
    "Ordered, changeable, and allows duplicates"
   ]
  },
  {
   "cell_type": "code",
   "execution_count": null,
   "id": "a8df4eec",
   "metadata": {
    "scrolled": true
   },
   "outputs": [],
   "source": [
    "l = [1,2,3,3]\n",
    "print(l)"
   ]
  },
  {
   "cell_type": "markdown",
   "id": "1803e590",
   "metadata": {},
   "source": [
    "Get length of list using `len()`"
   ]
  },
  {
   "cell_type": "code",
   "execution_count": null,
   "id": "971d0215",
   "metadata": {},
   "outputs": [],
   "source": [
    "print(len(l))"
   ]
  },
  {
   "cell_type": "markdown",
   "id": "d8a0e370",
   "metadata": {},
   "source": [
    "Lists are ordered...\n",
    "\n",
    "Select list items by using the square brackets on the list variable (same as we did for strings)."
   ]
  },
  {
   "cell_type": "code",
   "execution_count": null,
   "id": "f0196e23",
   "metadata": {},
   "outputs": [],
   "source": [
    "print(l[0])\n",
    "print(l[2])"
   ]
  },
  {
   "cell_type": "markdown",
   "id": "b887dc8c",
   "metadata": {},
   "source": [
    "Select multiple items from a list using square brackets with a colon to define the range. The last index defined is NOT included."
   ]
  },
  {
   "cell_type": "code",
   "execution_count": null,
   "id": "8f2832e4",
   "metadata": {},
   "outputs": [],
   "source": [
    "# Print the first two indicies of the list, i.e., index 0 and  index 1.\n",
    "# Index 2 is not included\n",
    "print(l[0:2])"
   ]
  },
  {
   "cell_type": "markdown",
   "id": "067b8110",
   "metadata": {},
   "source": [
    "Lists are changeable...\n",
    "\n",
    "Reassign items in a list by chossing the index and resetting it."
   ]
  },
  {
   "cell_type": "code",
   "execution_count": null,
   "id": "30f00013",
   "metadata": {
    "scrolled": true
   },
   "outputs": [],
   "source": [
    "# Original list\n",
    "print(l)\n",
    "# Rassign the Index 3 (fourth item) to 4\n",
    "l[3] = 4\n",
    "print(l)"
   ]
  },
  {
   "cell_type": "markdown",
   "id": "581f2d56",
   "metadata": {},
   "source": [
    "Reorder lists using the `sort()` method."
   ]
  },
  {
   "cell_type": "code",
   "execution_count": null,
   "id": "0ec0fdd1",
   "metadata": {},
   "outputs": [],
   "source": [
    "l = [3,1,2,4]\n",
    "print(l)\n",
    "l.sort()\n",
    "print(l)"
   ]
  },
  {
   "cell_type": "markdown",
   "id": "96ca5f62",
   "metadata": {},
   "source": [
    "`sort()` is by default ascending. You can change this to descending by using the argument `reverse=True`."
   ]
  },
  {
   "cell_type": "code",
   "execution_count": null,
   "id": "b68d559d",
   "metadata": {},
   "outputs": [],
   "source": [
    "l.sort(reverse=True)\n",
    "print(l)"
   ]
  },
  {
   "cell_type": "markdown",
   "id": "6e783c81",
   "metadata": {},
   "source": [
    "Add item to list two ways:\n",
    "\n",
    "1. `append()` to the end of the list \n",
    "2. `insert()` at a specific index in the list"
   ]
  },
  {
   "cell_type": "code",
   "execution_count": null,
   "id": "15e36d4b",
   "metadata": {},
   "outputs": [],
   "source": [
    "l = [1,2,3]\n",
    "print(l)\n",
    "# append() takes an value/variable as an argument\n",
    "l.append(4)\n",
    "print(l)"
   ]
  },
  {
   "cell_type": "code",
   "execution_count": null,
   "id": "22e837c0",
   "metadata": {
    "scrolled": true
   },
   "outputs": [],
   "source": [
    "l = [1,2,4]\n",
    "print(l)\n",
    "# insert() takes an index and a value/variable as arguments\n",
    "l.insert(2, 3)\n",
    "print(l)"
   ]
  },
  {
   "cell_type": "markdown",
   "id": "3ef0bd9f",
   "metadata": {},
   "source": [
    "Remove items from a list using three methods:\n",
    "\n",
    "1. `remove()` to delete an item based on the value\n",
    "2. `pop()` to delete an item based on index\n",
    "3. `del` to delete an item by index or the whole list"
   ]
  },
  {
   "cell_type": "code",
   "execution_count": null,
   "id": "cb5120d1",
   "metadata": {
    "scrolled": true
   },
   "outputs": [],
   "source": [
    "l = [1,2,3,4]\n",
    "print(l)\n",
    "# remove() takes a value/variable as an argument\n",
    "y = l.remove(4)\n",
    "print(l)\n",
    "print(y)"
   ]
  },
  {
   "cell_type": "code",
   "execution_count": null,
   "id": "68d4acb9",
   "metadata": {},
   "outputs": [],
   "source": [
    "l = [1,2,3,4]\n",
    "print(l)\n",
    "# pop() takes an index as an argument\n",
    "y = l.pop(3)\n",
    "print(l)\n",
    "print(y)"
   ]
  },
  {
   "cell_type": "code",
   "execution_count": null,
   "id": "8e4b59d8",
   "metadata": {},
   "outputs": [],
   "source": [
    "l = [1,2,3,4]\n",
    "print(l)\n",
    "# del can be used on a list item or the whole list\n",
    "del l[3]\n",
    "print(l)"
   ]
  },
  {
   "cell_type": "markdown",
   "id": "cad35708",
   "metadata": {},
   "source": [
    "## Dictionaries\n",
    "\n",
    "Create a dictionary using curly brackets and define keys and values - `{\"key\": value}`\n",
    "\n",
    "Ordered, changeable, and does not allow duplicates"
   ]
  },
  {
   "cell_type": "code",
   "execution_count": null,
   "id": "c6dc385f",
   "metadata": {},
   "outputs": [],
   "source": [
    "d = {'name': 'Michael', 'color': 'blue', 'number': 3}\n",
    "print(d)"
   ]
  },
  {
   "cell_type": "markdown",
   "id": "12a063f2",
   "metadata": {},
   "source": [
    "Access items in dictionary by using the key as an index."
   ]
  },
  {
   "cell_type": "code",
   "execution_count": null,
   "id": "24a36a20",
   "metadata": {
    "scrolled": false
   },
   "outputs": [],
   "source": [
    "print(d['color'])"
   ]
  },
  {
   "cell_type": "markdown",
   "id": "f10201d1",
   "metadata": {},
   "source": [
    "All view all keys in a dict using `keys()` method or all values using the `values()` method."
   ]
  },
  {
   "cell_type": "code",
   "execution_count": null,
   "id": "c16c8cae",
   "metadata": {
    "scrolled": true
   },
   "outputs": [],
   "source": [
    "print(d.keys())"
   ]
  },
  {
   "cell_type": "code",
   "execution_count": null,
   "id": "85337bc6",
   "metadata": {},
   "outputs": [],
   "source": [
    "print(d.values())"
   ]
  },
  {
   "cell_type": "markdown",
   "id": "274ccc5e",
   "metadata": {},
   "source": [
    "Change the value of an item using the key index."
   ]
  },
  {
   "cell_type": "code",
   "execution_count": null,
   "id": "fae89148",
   "metadata": {},
   "outputs": [],
   "source": [
    "d = {'name': 'Michael', 'color': 'blue', 'number': 3}\n",
    "print(d)\n",
    "d['name']='Bob'\n",
    "print(d)"
   ]
  },
  {
   "cell_type": "markdown",
   "id": "b8a6adda",
   "metadata": {},
   "source": [
    "Add a new item (key and value) to a dict by using the key index."
   ]
  },
  {
   "cell_type": "code",
   "execution_count": null,
   "id": "08582764",
   "metadata": {
    "scrolled": true
   },
   "outputs": [],
   "source": [
    "d = {'name': 'Michael', 'color': 'blue', 'number': 3}\n",
    "print(d)\n",
    "d['role']='student'\n",
    "print(d)"
   ]
  },
  {
   "cell_type": "markdown",
   "id": "64168552",
   "metadata": {},
   "source": [
    "Remove items using `pop()` or `del`."
   ]
  },
  {
   "cell_type": "code",
   "execution_count": null,
   "id": "6a37fab1",
   "metadata": {},
   "outputs": [],
   "source": [
    "d = {'name': 'Michael', 'color': 'blue', 'number': 3}\n",
    "print(d)\n",
    "d.pop('number')\n",
    "print(d)"
   ]
  },
  {
   "cell_type": "code",
   "execution_count": null,
   "id": "efe1ac43",
   "metadata": {
    "scrolled": true
   },
   "outputs": [],
   "source": [
    "d = {'name': 'Michael', 'color': 'blue', 'number': 3}\n",
    "print(d)\n",
    "del d['number']\n",
    "print(d)"
   ]
  },
  {
   "cell_type": "markdown",
   "id": "6d9f551f",
   "metadata": {},
   "source": [
    "## Tuples\n",
    "\n",
    "Create a tuple using round brackets `(value1, value2)`\n",
    "\n",
    "Ordered, unchangeable, and allows duplicates"
   ]
  },
  {
   "cell_type": "code",
   "execution_count": null,
   "id": "e0d14c50",
   "metadata": {
    "scrolled": true
   },
   "outputs": [],
   "source": [
    "t = (1,2,3)\n",
    "print(t)"
   ]
  },
  {
   "cell_type": "markdown",
   "id": "219b4a6b",
   "metadata": {},
   "source": [
    "Access items in tuple using index."
   ]
  },
  {
   "cell_type": "code",
   "execution_count": null,
   "id": "f0d3e6b7",
   "metadata": {
    "scrolled": true
   },
   "outputs": [],
   "source": [
    "print(t[0])\n",
    "print(t[0:2])"
   ]
  },
  {
   "cell_type": "markdown",
   "id": "8119a73d",
   "metadata": {},
   "source": [
    "In order to change a tuple one must change a tuple to a list, modify it, then recast it as a tuple."
   ]
  },
  {
   "cell_type": "code",
   "execution_count": null,
   "id": "475cc9e5",
   "metadata": {},
   "outputs": [],
   "source": [
    "t = (1,2,3)\n",
    "print(t)\n",
    "# We can't append to a tuple -- unchangeable\n",
    "t.append(4)"
   ]
  },
  {
   "cell_type": "code",
   "execution_count": null,
   "id": "fc7378cb",
   "metadata": {},
   "outputs": [],
   "source": [
    "t = (1,2,3)\n",
    "print(t)\n",
    "t = list(t)\n",
    "t.append(4)\n",
    "t = tuple(t)\n",
    "print(t)"
   ]
  },
  {
   "cell_type": "markdown",
   "id": "affd9cfc",
   "metadata": {},
   "source": [
    "## Sets\n",
    "\n",
    "Create a set using curly brackets `{value1, value2}`\n",
    "\n",
    "Unordered, unchangeable, and does not allow duplicates"
   ]
  },
  {
   "cell_type": "code",
   "execution_count": null,
   "id": "72a3c297",
   "metadata": {
    "scrolled": true
   },
   "outputs": [],
   "source": [
    "s = {'a','b','c'}\n",
    "print(s)"
   ]
  },
  {
   "cell_type": "code",
   "execution_count": null,
   "id": "e840c355",
   "metadata": {
    "scrolled": true
   },
   "outputs": [],
   "source": [
    "# No duplicate items\n",
    "s = {'a','b','c','c'}\n",
    "print(s)"
   ]
  },
  {
   "cell_type": "markdown",
   "id": "b39f2287",
   "metadata": {},
   "source": [
    "Sets are not indexed, so we can't access items in the set.\n",
    "\n",
    "Sets are unchangeable, but we can add or remove items using `add()` or `remove()`."
   ]
  },
  {
   "cell_type": "code",
   "execution_count": null,
   "id": "fd611c03",
   "metadata": {
    "scrolled": true
   },
   "outputs": [],
   "source": [
    "s = {'a','b','c'}\n",
    "print(s)\n",
    "s.add('d')\n",
    "print(s)"
   ]
  },
  {
   "cell_type": "code",
   "execution_count": null,
   "id": "73eff3c2",
   "metadata": {},
   "outputs": [],
   "source": [
    "s = {'a','b','c'}\n",
    "print(s)\n",
    "s.remove('a')\n",
    "print(s)"
   ]
  },
  {
   "cell_type": "markdown",
   "id": "878d757d",
   "metadata": {},
   "source": [
    "---"
   ]
  },
  {
   "cell_type": "markdown",
   "id": "f6027f4a",
   "metadata": {
    "editable": false
   },
   "source": [
    "# Graded Portion\n",
    "---\n",
    "\n",
    "## Problem 01 (3 points)\n",
    "Cast the following variables to make them into the desired data type. Print each variable as the correct data type.\n",
    "\n",
    "1. x needs to be float\n",
    "2. y needs to be string\n",
    "3. z needs to be int\n",
    "\n",
    "Each correct variable worth 1 point."
   ]
  },
  {
   "cell_type": "code",
   "execution_count": null,
   "id": "7141b0ca",
   "metadata": {
    "editable": false
   },
   "outputs": [],
   "source": [
    "# I have defined the variables for you.\n",
    "# RUN THIS CELL FIRST.\n",
    "# DO NOT CHANGE THIS CELL.\n",
    "x = 5\n",
    "y = 42\n",
    "z = \"1\""
   ]
  },
  {
   "cell_type": "code",
   "execution_count": null,
   "id": "98b5d64c",
   "metadata": {},
   "outputs": [],
   "source": [
    "# Write your code here to answer the question\n",
    "\n",
    "\n",
    "#"
   ]
  },
  {
   "cell_type": "code",
   "execution_count": null,
   "id": "4dbbfa4a",
   "metadata": {
    "editable": false
   },
   "outputs": [],
   "source": [
    "# Print true or false for each correct answer\n",
    "print(type(x) is float)\n",
    "print(type(y) is str)\n",
    "print(type(z) is int)"
   ]
  },
  {
   "cell_type": "markdown",
   "id": "966a55c7",
   "metadata": {
    "editable": false
   },
   "source": [
    "## Problem 02 (3 points)\n",
    "Make variables p1, p2, and p3 equal to the desired value. Assign variables p1, p2, and p3 using only variables i, j, and k. Print the resulting variables.\n",
    "\n",
    "1. p1 == 2187\n",
    "2. p2 == 39\n",
    "3. p3 == 0\n",
    "\n",
    "Each correct variable worth 1 point.\n",
    "\n",
    "*Hint: None of the answers require more than three variables and a variable is never used more than once in the same answer.*"
   ]
  },
  {
   "cell_type": "code",
   "execution_count": null,
   "id": "bd6eacfa",
   "metadata": {
    "editable": false
   },
   "outputs": [],
   "source": [
    "# I have defined the variables for you.\n",
    "# RUN THIS CELL FIRST.\n",
    "# DO NOT CHANGE THIS CELL.\n",
    "i = 3\n",
    "j = 7\n",
    "k = 10"
   ]
  },
  {
   "cell_type": "code",
   "execution_count": null,
   "id": "9e99a663",
   "metadata": {},
   "outputs": [],
   "source": [
    "# Write your code here to answer the question\n",
    "p1 = \n",
    "p2 = \n",
    "p3 = \n",
    "#"
   ]
  },
  {
   "cell_type": "code",
   "execution_count": null,
   "id": "c24dfa67",
   "metadata": {
    "editable": false
   },
   "outputs": [],
   "source": [
    "# Print true or false for each correct answer\n",
    "print(p1==2187)\n",
    "print(p2==39)\n",
    "print(p3==0)"
   ]
  },
  {
   "cell_type": "markdown",
   "id": "e3fd69c2",
   "metadata": {
    "editable": false
   },
   "source": [
    "## Problem 03 (4 points)\n",
    "Create a list and assign it to variable `x_list`. The list must be in ascending order (0 to 3) using the following variables:\n",
    "\n",
    "- a = 1\n",
    "- b = 3\n",
    "- c = 0\n",
    "- d = 2\n",
    "\n",
    "The answer is either correct or not."
   ]
  },
  {
   "cell_type": "code",
   "execution_count": null,
   "id": "256fe304",
   "metadata": {
    "editable": false
   },
   "outputs": [],
   "source": [
    "# I have defined the variables for you.\n",
    "# RUN THIS CELL FIRST.\n",
    "# DO NOT CHANGE THIS CELL.\n",
    "a = 1\n",
    "b = 3\n",
    "c = 0\n",
    "d = 2"
   ]
  },
  {
   "cell_type": "code",
   "execution_count": null,
   "id": "23cd6082",
   "metadata": {},
   "outputs": [],
   "source": [
    "# Write your code here to answer the question\n",
    "x_list = \n",
    "\n",
    "#"
   ]
  },
  {
   "cell_type": "code",
   "execution_count": null,
   "id": "a3b4b134",
   "metadata": {
    "editable": false
   },
   "outputs": [],
   "source": [
    "# Print true or false for correct answer\n",
    "print(x_list == [0,1,2,3])"
   ]
  }
 ],
 "metadata": {
  "kernelspec": {
   "display_name": "Python 3 (ipykernel)",
   "language": "python",
   "name": "python3"
  },
  "language_info": {
   "codemirror_mode": {
    "name": "ipython",
    "version": 3
   },
   "file_extension": ".py",
   "mimetype": "text/x-python",
   "name": "python",
   "nbconvert_exporter": "python",
   "pygments_lexer": "ipython3",
   "version": "3.9.7"
  }
 },
 "nbformat": 4,
 "nbformat_minor": 5
}
