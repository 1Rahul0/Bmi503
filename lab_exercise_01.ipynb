{
 "cells": [
  {
   "cell_type": "markdown",
   "id": "874264fc",
   "metadata": {},
   "source": [
    "# Lab Exercise 01"
   ]
  },
  {
   "cell_type": "markdown",
   "id": "98b6301d",
   "metadata": {},
   "source": [
    "## Problem 01 (3 points)\n",
    "Cast the following variables to make them into the desired data type. Print each variable as the correct data type.\n",
    "\n",
    "- x needs to be float\n",
    "- y needs to be string\n",
    "- z needs to be int"
   ]
  },
  {
   "cell_type": "code",
   "execution_count": 4,
   "id": "1b8630cc",
   "metadata": {},
   "outputs": [],
   "source": [
    "# I have defined the variables for you.\n",
    "# RUN THIS CELL FIRST.\n",
    "# DO NOT CHANGE THIS CELL.\n",
    "x = 5\n",
    "y = 42\n",
    "z = \"1\""
   ]
  },
  {
   "cell_type": "code",
   "execution_count": null,
   "id": "bbae3d00",
   "metadata": {},
   "outputs": [],
   "source": [
    "# Show your code here to answer the question\n"
   ]
  },
  {
   "cell_type": "code",
   "execution_count": 6,
   "id": "4daa4b71",
   "metadata": {},
   "outputs": [
    {
     "name": "stdout",
     "output_type": "stream",
     "text": [
      "x = 5\n",
      "x is <class 'int'>\n",
      "y = 42\n",
      "y is <class 'int'>\n",
      "z = 1\n",
      "z is <class 'str'>\n"
     ]
    }
   ],
   "source": [
    "# Print the variables\n",
    "print(\"x =\", x)\n",
    "print(\"x is\", type(x))\n",
    "print(\"y =\", y)\n",
    "print(\"y is\", type(y))\n",
    "print(\"z =\", z)\n",
    "print(\"z is\", type(z))"
   ]
  },
  {
   "cell_type": "markdown",
   "id": "03b8fd52",
   "metadata": {},
   "source": [
    "## Problem 02 (5 points)"
   ]
  },
  {
   "cell_type": "code",
   "execution_count": null,
   "id": "080c7f6a",
   "metadata": {},
   "outputs": [],
   "source": []
  }
 ],
 "metadata": {
  "celltoolbar": "Edit Metadata",
  "kernelspec": {
   "display_name": "Python 3 (ipykernel)",
   "language": "python",
   "name": "python3"
  },
  "language_info": {
   "codemirror_mode": {
    "name": "ipython",
    "version": 3
   },
   "file_extension": ".py",
   "mimetype": "text/x-python",
   "name": "python",
   "nbconvert_exporter": "python",
   "pygments_lexer": "ipython3",
   "version": "3.9.7"
  }
 },
 "nbformat": 4,
 "nbformat_minor": 5
}
